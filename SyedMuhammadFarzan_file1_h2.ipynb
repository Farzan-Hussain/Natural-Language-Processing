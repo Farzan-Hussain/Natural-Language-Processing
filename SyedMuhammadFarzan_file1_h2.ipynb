{
  "nbformat": 4,
  "nbformat_minor": 0,
  "metadata": {
    "colab": {
      "provenance": []
    },
    "kernelspec": {
      "name": "python3",
      "display_name": "Python 3"
    },
    "language_info": {
      "name": "python"
    }
  },
  "cells": [
    {
      "cell_type": "markdown",
      "metadata": {
        "id": "_mJQGbTFOCAx"
      },
      "source": [
        "<h1 align='center'><b><font color='indianred'></p>Spam Detection HW</b></h1>\n",
        "\n",
        "<font color = 'indianred' size = 4 >**Read complete instructions before starting the HW** </font>\n"
      ]
    },
    {
      "cell_type": "markdown",
      "metadata": {
        "id": "cXeG6ZQ4OVDj"
      },
      "source": [
        "# <font color='indianred'> **Q1: Load the dataset  (1 Point)**\n",
        "\n",
        "- For this Hw you will usespam dataset from kaggle which can be found from [this](https://www.kaggle.com/uciml/sms-spam-collection-dataset) link. You can download this data and either upload it in google drive or in colab workspace. Load the data in pandas dataframe.\n",
        "\n",
        "- There are only two useful columns. These columns are related to (1) label (ham and spam) and the (2) text of email.\n",
        "\n",
        "- Rename columns as label and message\n",
        "\n",
        "- Find the %  ham amd spam in the data.\n",
        "\n",
        "\n",
        "\n"
      ]
    },
    {
      "cell_type": "code",
      "source": [
        "from google.colab import drive\n",
        "drive.mount('/content/drive')"
      ],
      "metadata": {
        "colab": {
          "base_uri": "https://localhost:8080/"
        },
        "id": "vJPWb8phEYi-",
        "outputId": "78610c11-840d-4e94-b15d-81a18436dec3"
      },
      "execution_count": 1,
      "outputs": [
        {
          "output_type": "stream",
          "name": "stdout",
          "text": [
            "Mounted at /content/drive\n"
          ]
        }
      ]
    },
    {
      "cell_type": "code",
      "source": [
        "file_path = \"/content/drive/MyDrive/Datasets/spam.csv\""
      ],
      "metadata": {
        "id": "bNckwHciFCBq"
      },
      "execution_count": 2,
      "outputs": []
    },
    {
      "cell_type": "code",
      "source": [
        "import pandas as pd\n",
        "\n",
        "# Working around the encoding error while loading the dataset\n",
        "encodings = [\"utf-8\", \"latin1\", \"iso-8859-1\", \"utf-16\"]\n",
        "\n",
        "for encoding in encodings:\n",
        "    try:\n",
        "        data = pd.read_csv(file_path, encoding=encoding)\n",
        "        print(\"File read successfully using encoding:\", encoding)\n",
        "        break  # Exit the loop if the file is read successfully\n",
        "    except UnicodeDecodeError:\n",
        "        print(\"Failed to read with encoding:\", encoding)"
      ],
      "metadata": {
        "colab": {
          "base_uri": "https://localhost:8080/"
        },
        "id": "VK2ssBwMFGS3",
        "outputId": "e49e2b12-c06a-46bd-8e7e-cd85ee65bc36"
      },
      "execution_count": 3,
      "outputs": [
        {
          "output_type": "stream",
          "name": "stdout",
          "text": [
            "Failed to read with encoding: utf-8\n",
            "File read successfully using encoding: latin1\n"
          ]
        }
      ]
    },
    {
      "cell_type": "code",
      "source": [
        "data.head"
      ],
      "metadata": {
        "colab": {
          "base_uri": "https://localhost:8080/"
        },
        "id": "weMa_ZXsICfJ",
        "outputId": "a3e452e4-bed3-44ba-aafe-496b9a8340ee"
      },
      "execution_count": 4,
      "outputs": [
        {
          "output_type": "execute_result",
          "data": {
            "text/plain": [
              "<bound method NDFrame.head of         v1                                                 v2 Unnamed: 2  \\\n",
              "0      ham  Go until jurong point, crazy.. Available only ...        NaN   \n",
              "1      ham                      Ok lar... Joking wif u oni...        NaN   \n",
              "2     spam  Free entry in 2 a wkly comp to win FA Cup fina...        NaN   \n",
              "3      ham  U dun say so early hor... U c already then say...        NaN   \n",
              "4      ham  Nah I don't think he goes to usf, he lives aro...        NaN   \n",
              "...    ...                                                ...        ...   \n",
              "5567  spam  This is the 2nd time we have tried 2 contact u...        NaN   \n",
              "5568   ham              Will Ì_ b going to esplanade fr home?        NaN   \n",
              "5569   ham  Pity, * was in mood for that. So...any other s...        NaN   \n",
              "5570   ham  The guy did some bitching but I acted like i'd...        NaN   \n",
              "5571   ham                         Rofl. Its true to its name        NaN   \n",
              "\n",
              "     Unnamed: 3 Unnamed: 4  \n",
              "0           NaN        NaN  \n",
              "1           NaN        NaN  \n",
              "2           NaN        NaN  \n",
              "3           NaN        NaN  \n",
              "4           NaN        NaN  \n",
              "...         ...        ...  \n",
              "5567        NaN        NaN  \n",
              "5568        NaN        NaN  \n",
              "5569        NaN        NaN  \n",
              "5570        NaN        NaN  \n",
              "5571        NaN        NaN  \n",
              "\n",
              "[5572 rows x 5 columns]>"
            ]
          },
          "metadata": {},
          "execution_count": 4
        }
      ]
    },
    {
      "cell_type": "code",
      "source": [
        "# Renaming the columns\n",
        "data = data.rename(columns={'v1': 'label', 'v2': 'message'})"
      ],
      "metadata": {
        "id": "q-Qt_V9ZJkgN"
      },
      "execution_count": 5,
      "outputs": []
    },
    {
      "cell_type": "code",
      "source": [
        "# Viewing the data\n",
        "data.head"
      ],
      "metadata": {
        "colab": {
          "base_uri": "https://localhost:8080/"
        },
        "id": "S2l3DNezJ2Fl",
        "outputId": "837162c8-c7ee-4cb4-bd4b-30165c032fce"
      },
      "execution_count": 6,
      "outputs": [
        {
          "output_type": "execute_result",
          "data": {
            "text/plain": [
              "<bound method NDFrame.head of      label                                            message Unnamed: 2  \\\n",
              "0      ham  Go until jurong point, crazy.. Available only ...        NaN   \n",
              "1      ham                      Ok lar... Joking wif u oni...        NaN   \n",
              "2     spam  Free entry in 2 a wkly comp to win FA Cup fina...        NaN   \n",
              "3      ham  U dun say so early hor... U c already then say...        NaN   \n",
              "4      ham  Nah I don't think he goes to usf, he lives aro...        NaN   \n",
              "...    ...                                                ...        ...   \n",
              "5567  spam  This is the 2nd time we have tried 2 contact u...        NaN   \n",
              "5568   ham              Will Ì_ b going to esplanade fr home?        NaN   \n",
              "5569   ham  Pity, * was in mood for that. So...any other s...        NaN   \n",
              "5570   ham  The guy did some bitching but I acted like i'd...        NaN   \n",
              "5571   ham                         Rofl. Its true to its name        NaN   \n",
              "\n",
              "     Unnamed: 3 Unnamed: 4  \n",
              "0           NaN        NaN  \n",
              "1           NaN        NaN  \n",
              "2           NaN        NaN  \n",
              "3           NaN        NaN  \n",
              "4           NaN        NaN  \n",
              "...         ...        ...  \n",
              "5567        NaN        NaN  \n",
              "5568        NaN        NaN  \n",
              "5569        NaN        NaN  \n",
              "5570        NaN        NaN  \n",
              "5571        NaN        NaN  \n",
              "\n",
              "[5572 rows x 5 columns]>"
            ]
          },
          "metadata": {},
          "execution_count": 6
        }
      ]
    },
    {
      "cell_type": "code",
      "source": [
        "# Count of ham\n",
        "ham_count = data['label'].str.contains('ham').sum()\n",
        "print(\"The number of ham messages:\", ham_count)\n",
        "\n",
        "# Count of spam\n",
        "spam_count = data['label'].str.contains('spam').sum()\n",
        "print(\"The number of spam messages:\", spam_count)\n",
        "\n",
        "# Percentage ham\n",
        "per_ham = round(ham_count/(spam_count+ham_count) * 100, 2)\n",
        "print(\"Percentage of ham:\", per_ham, \"\\n\", \"Percentage of spam:\", round(100 - per_ham, 2))"
      ],
      "metadata": {
        "colab": {
          "base_uri": "https://localhost:8080/"
        },
        "id": "00wgDLcKLT6U",
        "outputId": "c9d63166-4a33-41f5-f6b3-e978f057ce59"
      },
      "execution_count": 7,
      "outputs": [
        {
          "output_type": "stream",
          "name": "stdout",
          "text": [
            "The number of ham messages: 4825\n",
            "The number of spam messages: 747\n",
            "Percentage of ham: 86.59 \n",
            " Percentage of spam: 13.41\n"
          ]
        }
      ]
    },
    {
      "cell_type": "markdown",
      "metadata": {
        "id": "pNdWCViagO4F"
      },
      "source": [
        "# <font color='indianred'> **Q2 : Provide the metric for evaluating model (1 Point)**</font>\n",
        "\n",
        "As you will notice, the  data is highly imbalanced (most messages are labelled as ham and only few are labelled as spam). Always predicting ham will give us very good accuracy (close to 90%). So you need to choose a different metric.\n",
        "\n",
        "Task: Provde the metric you will choose to evaluate your model. Explain why this is an appropriate metric for this case."
      ]
    },
    {
      "cell_type": "markdown",
      "source": [
        "**Answer**\n",
        "\n",
        "When there is a class imbalance, using accuracy is not a good measure to determine model performance. In such situations, the F1 score should be used to evaluate how well a model can classify data. The F1 score is the harmonic mean of precision and recall and is not impacted by imbalanced classes, making it better-suited for the dataset.\n",
        "\n"
      ],
      "metadata": {
        "id": "vUJ30-DOPlhX"
      }
    },
    {
      "cell_type": "markdown",
      "metadata": {
        "id": "rH8_mvGhiThV"
      },
      "source": [
        "# <font color='indianred'> **Q3 : Classification Pipelines (18 Points)**</font>\n",
        "\n",
        "In the previous lectures you learned Data processing, Featurization such as CountVectorizer, TFIDFVectorizer, and also Feature Engineering.\n",
        "* You will now use folllowing methods to create fearures which you can use in your model.\n",
        "\n",
        "    1. Sparse Embeddings (TF-IDF) (6 Points)\n",
        "    2. Feature Engineering (see examples below) (6 Points)\n",
        "    3. Sparse Embeddings (TF-IDF) + Feature Engineering (6 Points)\n",
        "\n",
        "**Approach:**\n",
        "\n",
        "<font color='indianred'> ****Use a smaller subset of dataset (e.g. 5-10 %) to evaluate the three pipelines . Based on your analysis (e.g. model score, learning curves) , choose one pipeline from the three. Provde your rational for choosing the pipleine. Train only the final pipeline on randomly selected larger subset (e.g. 40%) of the data.** </font>\n",
        "\n",
        "**Requirements:**\n",
        "\n",
        "1. You can use any ML model (Logistic Regression, XgBoost) for the classification. You will need to tune the **model for imbalanced dataset** (The link on XGBoost tutorial for imbalanced data: https://machinelearningmastery.com/xgboost-for-imbalanced-classification/).\n",
        "\n",
        "2. For feature engineering, you can choose from the examples below. You do not  have to use all of them. You can add other featues as well. Think about what faetures can distinguish a spam from a regular email. Some examples :\n",
        "\n",
        ">> Count of following  (Words, characters, digits, exclamation marks, numbers, Nouns, ProperNouns, AUX, VERBS, Adjectives, named entities, spelling mistakes (see the link on how to get spelling mistakes https://pypi.org/project/pyspellchecker/).\n",
        "\n",
        "3. For Sparse embeddings you will use **tfidf vectorization**. You need to choose appopriate parameters e.g. min_df, max_df, max_faetures, n-grams etc.).\n",
        "\n",
        "4. Think carefully about the pre-processing you will do.\n",
        "\n",
        "Tip: <font color = 'indianred'>**Using GridSearch for hyperparameter tuning might take a lot of time. Try using RandomizedSearch.**</font> You can also explore faster implementation of Gridsearch and RandomizedSearch in sklearn:\n",
        "\n",
        "1. [Halving Grid Search](https://scikit-learn.org/stable/modules/generated/sklearn.model_selection.HalvingGridSearchCV.html?highlight=halving#sklearn.model_selection.HalvingGridSearchCV)\n",
        "\n",
        "2. [HalvingRandomSearchCV](https://scikit-learn.org/stable/modules/generated/sklearn.model_selection.HalvingRandomSearchCV.html?highlight=halving#sklearn.model_selection.HalvingRandomSearchCV)\n",
        "\n",
        "\n",
        "\n"
      ]
    },
    {
      "cell_type": "markdown",
      "metadata": {
        "id": "PqPTPb0AsMP3"
      },
      "source": [
        "# **Required Submissions:**\n",
        "1.  Submit two colab/jupyter notebooks\n",
        "- (analysis with smaller subset and all three pipelines)\n",
        "- (analysis with bigger subset and only final pipeline)\n",
        "2. Pdf version of the notebooks (HWs will not be graded if pdf version is not provided.\n",
        "3. **The notebooks and pdf files should have the output.**\n",
        "4. **Name files as follows : FirstName_file1_hw2, FirstName_file2_h2**"
      ]
    },
    {
      "cell_type": "markdown",
      "source": [
        "\n",
        "# Data Exploration and Cleaning"
      ],
      "metadata": {
        "id": "QNeM6UVeajiY"
      }
    },
    {
      "cell_type": "code",
      "source": [
        "# Let's visualize the data\n",
        "import matplotlib.pyplot as plt\n",
        "\n",
        "# Number of ham messages\n",
        "num_ham = 4825\n",
        "\n",
        "# Number of spam messages\n",
        "num_spam = 747\n",
        "\n",
        "# Labels for the bar plot\n",
        "labels = ['Ham', 'Spam']\n",
        "\n",
        "# Heights of the bars\n",
        "heights = [ham_count, spam_count]\n",
        "\n",
        "# Create the bar plot\n",
        "plt.bar(labels, heights, color=['blue', 'red'])\n",
        "\n",
        "# Add title and labels\n",
        "plt.title('Number of Ham and Spam Messages')\n",
        "plt.xlabel('Message Type')\n",
        "plt.ylabel('Number of Messages')\n",
        "\n",
        "# Show the plot\n",
        "plt.show()"
      ],
      "metadata": {
        "colab": {
          "base_uri": "https://localhost:8080/",
          "height": 472
        },
        "id": "p40bA-jQjZY3",
        "outputId": "2690198a-ff18-4121-821f-17ce3ffc4109"
      },
      "execution_count": 8,
      "outputs": [
        {
          "output_type": "display_data",
          "data": {
            "text/plain": [
              "<Figure size 640x480 with 1 Axes>"
            ],
            "image/png": "[encoded data removed]"
          },
          "metadata": {}
        }
      ]
    },
    {
      "cell_type": "code",
      "source": [
        "# Checking what columns we have\n",
        "data.columns"
      ],
      "metadata": {
        "colab": {
          "base_uri": "https://localhost:8080/"
        },
        "id": "GyT4uy6epST6",
        "outputId": "26c6d937-3ecd-43c8-9a63-b10dd5baacb1"
      },
      "execution_count": 9,
      "outputs": [
        {
          "output_type": "execute_result",
          "data": {
            "text/plain": [
              "Index(['label', 'message', 'Unnamed: 2', 'Unnamed: 3', 'Unnamed: 4'], dtype='object')"
            ]
          },
          "metadata": {},
          "execution_count": 9
        }
      ]
    },
    {
      "cell_type": "code",
      "source": [
        "# Dropping unnecessary columns\n",
        "data.drop(columns = ['Unnamed: 2', 'Unnamed: 3', 'Unnamed: 4'], inplace = True)"
      ],
      "metadata": {
        "id": "sLyXgN9rtrpn"
      },
      "execution_count": 10,
      "outputs": []
    },
    {
      "cell_type": "code",
      "source": [
        "# Inspecting the dataframe\n",
        "data.columns"
      ],
      "metadata": {
        "colab": {
          "base_uri": "https://localhost:8080/"
        },
        "id": "N0QTEJRiuFaH",
        "outputId": "f1e44790-76f9-4cc2-e595-31c8d386fc9e"
      },
      "execution_count": 11,
      "outputs": [
        {
          "output_type": "execute_result",
          "data": {
            "text/plain": [
              "Index(['label', 'message'], dtype='object')"
            ]
          },
          "metadata": {},
          "execution_count": 11
        }
      ]
    },
    {
      "cell_type": "code",
      "source": [
        "# Converting to lower case\n",
        "data['message'] = data['message'].str.lower()"
      ],
      "metadata": {
        "id": "MRV6bkVMzYE2"
      },
      "execution_count": 12,
      "outputs": []
    },
    {
      "cell_type": "code",
      "source": [
        "# Sub-sampling the data\n",
        "small_data = pd.DataFrame(data.sample(frac = 0.10, random_state = 12))\n",
        "print(small_data.head)\n",
        "\n",
        "print(small_data.shape, data.shape)"
      ],
      "metadata": {
        "colab": {
          "base_uri": "https://localhost:8080/"
        },
        "id": "YW7NezlUmpTh",
        "outputId": "058be9b9-c171-4f3e-c809-940b68906f52"
      },
      "execution_count": 13,
      "outputs": [
        {
          "output_type": "stream",
          "name": "stdout",
          "text": [
            "<bound method NDFrame.head of      label                                            message\n",
            "3134   ham  wat makes some people dearer is not just de ha...\n",
            "5037   ham  thanks for being there for me just to talk to ...\n",
            "785    ham  she was supposed to be but couldn't make it, s...\n",
            "730   spam  email alertfrom: jeri stewartsize: 2kbsubject:...\n",
            "355    ham  thank you for calling.forgot to say happy onam...\n",
            "...    ...                                                ...\n",
            "3490   ham                                                ok.\n",
            "5261   ham  i absolutely love south park! i only recently ...\n",
            "1285   ham           just wondering, the others just took off\n",
            "4500   ham                              so wat's da decision?\n",
            "1638   ham              great comedy..cant stop laughing da:)\n",
            "\n",
            "[557 rows x 2 columns]>\n",
            "(557, 2) (5572, 2)\n"
          ]
        }
      ]
    },
    {
      "cell_type": "code",
      "source": [
        "# Replace with binary\n",
        "data['label'] = data['label'].replace({'ham': 1, 'spam': 0})\n",
        "data.head"
      ],
      "metadata": {
        "colab": {
          "base_uri": "https://localhost:8080/"
        },
        "id": "4QLnG2390fjE",
        "outputId": "de766910-881a-40f8-ff03-279908a20edf"
      },
      "execution_count": 49,
      "outputs": [
        {
          "output_type": "execute_result",
          "data": {
            "text/plain": [
              "<bound method NDFrame.head of       label                                            message\n",
              "0         1  go until jurong point, crazy.. available only ...\n",
              "1         1                      ok lar... joking wif u oni...\n",
              "2         0  free entry in 2 a wkly comp to win fa cup fina...\n",
              "3         1  u dun say so early hor... u c already then say...\n",
              "4         1  nah i don't think he goes to usf, he lives aro...\n",
              "...     ...                                                ...\n",
              "5567      0  this is the 2nd time we have tried 2 contact u...\n",
              "5568      1              will ì_ b going to esplanade fr home?\n",
              "5569      1  pity, * was in mood for that. so...any other s...\n",
              "5570      1  the guy did some bitching but i acted like i'd...\n",
              "5571      1                         rofl. its true to its name\n",
              "\n",
              "[5572 rows x 2 columns]>"
            ]
          },
          "metadata": {},
          "execution_count": 49
        }
      ]
    },
    {
      "cell_type": "markdown",
      "source": [
        "# Sparse Embeddings"
      ],
      "metadata": {
        "id": "aA5mc4o9vGaM"
      }
    },
    {
      "cell_type": "code",
      "source": [
        "# Import required libraries\n",
        "import pandas as pd  # For data manipulation and analysis\n",
        "import numpy as np   # For numerical operations\n",
        "import spacy         # For NLP preprocessing\n",
        "\n",
        "# Import required nltk packages\n",
        "import nltk\n",
        "nltk.download('stopwords')  # Download the stopwords corpus\n",
        "from nltk.corpus import stopwords as nltk_stopwords  # Stopwords corpus\n",
        "\n",
        "# Import tweet tokenizer from nltk\n",
        "from nltk.tokenize import TweetTokenizer\n",
        "\n",
        "# Import CountVectorizer and TfidfVectorizer from scikit-learn\n",
        "from sklearn.feature_extraction.text import CountVectorizer, TfidfVectorizer\n",
        "\n",
        "# Import pathlib for managing file paths\n",
        "from pathlib import Path"
      ],
      "metadata": {
        "colab": {
          "base_uri": "https://localhost:8080/"
        },
        "id": "7EiX_YvH1npi",
        "outputId": "69973c36-a712-4a91-b7c8-21f5594eb1d8"
      },
      "execution_count": 50,
      "outputs": [
        {
          "output_type": "stream",
          "name": "stderr",
          "text": [
            "[nltk_data] Downloading package stopwords to /root/nltk_data...\n",
            "[nltk_data]   Package stopwords is already up-to-date!\n"
          ]
        }
      ]
    },
    {
      "cell_type": "code",
      "source": [
        "# Loading spaCy\n",
        "nlp = spacy.load('en_core_web_sm')"
      ],
      "metadata": {
        "id": "5O-b7nN71wu7"
      },
      "execution_count": 51,
      "outputs": []
    },
    {
      "cell_type": "code",
      "source": [
        "# Stop words\n",
        "nltk_stop_words = nltk_stopwords.words('english')"
      ],
      "metadata": {
        "id": "EJ9Avvf9ufDz"
      },
      "execution_count": 52,
      "outputs": []
    },
    {
      "cell_type": "code",
      "source": [
        "# tfidf vectorizer\n",
        "tfidf_vectorizer = tfidf_vectorizer = TfidfVectorizer(\n",
        "    max_features=3000,  # Adjust the number of features as per your dataset size\n",
        "    min_df=5,           # Ignore terms that have a document frequency strictly lower than the given threshold\n",
        "    max_df=0.8,         # Ignore terms that have a document frequency strictly higher than the given threshold\n",
        "    ngram_range=(1, 2), # Unigrams and bigrams\n",
        "    stop_words='english'\n",
        ")\n",
        "tfidf_vectors = tfidf_vectorizer.fit_transform(small_data['message'])\n",
        "print(f'tfidf vectors in array (dense) format\\n')\n",
        "print(tfidf_vectors.toarray())\n",
        "print(f'\\nThe shape of the tfidf vectors is : {tfidf_vectors.toarray().shape}')"
      ],
      "metadata": {
        "colab": {
          "base_uri": "https://localhost:8080/"
        },
        "id": "S0E7snoYeUHl",
        "outputId": "df3f6cc2-7ee2-46ae-be2e-7be1cdd9f98f"
      },
      "execution_count": 53,
      "outputs": [
        {
          "output_type": "stream",
          "name": "stdout",
          "text": [
            "tfidf vectors in array (dense) format\n",
            "\n",
            "[[0. 0. 0. ... 0. 0. 0.]\n",
            " [0. 0. 0. ... 0. 0. 0.]\n",
            " [0. 0. 0. ... 0. 0. 0.]\n",
            " ...\n",
            " [0. 0. 0. ... 0. 0. 0.]\n",
            " [0. 0. 0. ... 0. 0. 0.]\n",
            " [0. 0. 0. ... 0. 0. 0.]]\n",
            "\n",
            "The shape of the tfidf vectors is : (557, 166)\n"
          ]
        }
      ]
    },
    {
      "cell_type": "code",
      "source": [
        "tfidf_vectorizer.vocabulary_"
      ],
      "metadata": {
        "colab": {
          "base_uri": "https://localhost:8080/"
        },
        "id": "_lzo16dco8cM",
        "outputId": "499de42a-ca59-4668-b1f5-f37c1f0e8c4d"
      },
      "execution_count": 54,
      "outputs": [
        {
          "output_type": "execute_result",
          "data": {
            "text/plain": [
              "{'wat': 150,\n",
              " 'people': 106,\n",
              " 'just': 65,\n",
              " 'happiness': 56,\n",
              " 'feel': 42,\n",
              " 'meet': 83,\n",
              " 'pain': 105,\n",
              " 'miss': 87,\n",
              " 'thanks': 131,\n",
              " 'dear': 28,\n",
              " 'having': 58,\n",
              " 'make': 82,\n",
              " 'cost': 21,\n",
              " 'thank': 130,\n",
              " 'calling': 10,\n",
              " 'say': 117,\n",
              " 'happy': 57,\n",
              " 'fine': 44,\n",
              " 'come': 17,\n",
              " 'getting': 47,\n",
              " 'free': 45,\n",
              " 'time': 135,\n",
              " 'want': 149,\n",
              " 'got': 50,\n",
              " 'yeah': 161,\n",
              " 'tell': 128,\n",
              " 'okay': 102,\n",
              " 'ringtone': 115,\n",
              " 'order': 104,\n",
              " 'number': 98,\n",
              " 'mobile': 88,\n",
              " '50': 3,\n",
              " 'customer': 23,\n",
              " 'services': 121,\n",
              " 'customer services': 24,\n",
              " 'went': 153,\n",
              " 'morning': 91,\n",
              " 'day': 26,\n",
              " 'yup': 164,\n",
              " 'hey': 60,\n",
              " 'ask': 5,\n",
              " 'leave': 71,\n",
              " 'don': 35,\n",
              " 'll': 76,\n",
              " 'buy': 9,\n",
              " 'send': 118,\n",
              " 'wont': 157,\n",
              " 'til': 134,\n",
              " 'like': 75,\n",
              " 'lt': 80,\n",
              " 'gt': 53,\n",
              " 'lt gt': 81,\n",
              " 'try': 141,\n",
              " 'later': 69,\n",
              " 'thing': 132,\n",
              " 'tomo': 138,\n",
              " 'pick': 108,\n",
              " 'good': 49,\n",
              " 'ok': 101,\n",
              " 'double': 37,\n",
              " 'da': 25,\n",
              " 'said': 116,\n",
              " 'nice': 95,\n",
              " 'oh': 100,\n",
              " 'bed': 6,\n",
              " 'year': 162,\n",
              " 'did': 29,\n",
              " 'know': 67,\n",
              " 'doing': 34,\n",
              " 'chance': 14,\n",
              " 'let': 72,\n",
              " 'love': 79,\n",
              " 'amp': 4,\n",
              " 'need': 93,\n",
              " 'tomorrow': 139,\n",
              " 'pls': 110,\n",
              " 'claim': 16,\n",
              " 'ur': 143,\n",
              " 'soon': 124,\n",
              " 'txt': 142,\n",
              " 'going': 48,\n",
              " 've': 145,\n",
              " 'final': 43,\n",
              " 'contact': 19,\n",
              " 'chat': 15,\n",
              " '150p': 0,\n",
              " 'text': 129,\n",
              " 'let know': 73,\n",
              " 'lor': 78,\n",
              " 'speak': 126,\n",
              " 'hope': 63,\n",
              " 'doesn': 33,\n",
              " 'way': 151,\n",
              " 'tonight': 140,\n",
              " 'yes': 163,\n",
              " 'haha': 54,\n",
              " 'wan': 148,\n",
              " 'week': 152,\n",
              " 'half': 55,\n",
              " '18': 1,\n",
              " 'days': 27,\n",
              " 'latest': 70,\n",
              " 'stop': 127,\n",
              " 'friend': 46,\n",
              " 'reply': 113,\n",
              " 'www': 160,\n",
              " 'sms': 123,\n",
              " 'send stop': 119,\n",
              " 'think': 133,\n",
              " 'hi': 61,\n",
              " 'money': 89,\n",
              " 'today': 136,\n",
              " 'dun': 40,\n",
              " 'late': 68,\n",
              " 'sorry': 125,\n",
              " 'coming': 18,\n",
              " 'message': 84,\n",
              " 'ì_': 165,\n",
              " 'great': 52,\n",
              " 'lol': 77,\n",
              " 'home': 62,\n",
              " 'msg': 92,\n",
              " 'new': 94,\n",
              " 'nokia': 97,\n",
              " 'dont': 36,\n",
              " 'won': 156,\n",
              " 'mins': 86,\n",
              " 'gr8': 51,\n",
              " 'world': 159,\n",
              " 'win': 154,\n",
              " 'really': 112,\n",
              " 'just got': 66,\n",
              " 'dis': 31,\n",
              " 'orange': 103,\n",
              " 'cash': 13,\n",
              " 'help': 59,\n",
              " 'dinner': 30,\n",
              " 'right': 114,\n",
              " 'phone': 107,\n",
              " 'sent': 120,\n",
              " 'bit': 8,\n",
              " 'place': 109,\n",
              " 'told': 137,\n",
              " 'driving': 38,\n",
              " '1st': 2,\n",
              " 'night': 96,\n",
              " 'sleep': 122,\n",
              " 'month': 90,\n",
              " 'life': 74,\n",
              " 'work': 158,\n",
              " 'wk': 155,\n",
              " 'wait': 147,\n",
              " 'offer': 99,\n",
              " 'min': 85,\n",
              " 'care': 12,\n",
              " 'prize': 111,\n",
              " 'cos': 20,\n",
              " 'drop': 39,\n",
              " 'car': 11,\n",
              " 'dunno': 41,\n",
              " 'video': 146,\n",
              " 'does': 32,\n",
              " 'ill': 64,\n",
              " 'best': 7,\n",
              " 'cs': 22,\n",
              " 'urgent': 144}"
            ]
          },
          "metadata": {},
          "execution_count": 54
        }
      ]
    },
    {
      "cell_type": "code",
      "source": [
        "# Calculate inverse document frequency for each feature (word)\n",
        "term_idf = tfidf_vectorizer.idf_\n",
        "term_idf"
      ],
      "metadata": {
        "colab": {
          "base_uri": "https://localhost:8080/"
        },
        "id": "5QPwiVJpjpYq",
        "outputId": "3263cd9c-0e39-44ce-fe83-8cb85e175641"
      },
      "execution_count": 55,
      "outputs": [
        {
          "output_type": "execute_result",
          "data": {
            "text/plain": [
              "array([5.37844881, 5.53259949, 5.53259949, 5.37844881, 4.83945231,\n",
              "       5.24491742, 5.53259949, 5.53259949, 5.37844881, 5.24491742,\n",
              "       5.53259949, 5.24491742, 5.53259949, 5.02177387, 5.53259949,\n",
              "       5.24491742, 5.24491742, 4.10548314, 5.37844881, 4.92646369,\n",
              "       5.02177387, 5.24491742, 5.53259949, 5.24491742, 5.53259949,\n",
              "       4.61630876, 4.23331651, 5.02177387, 4.27983652, 5.37844881,\n",
              "       5.37844881, 5.53259949, 5.53259949, 5.53259949, 5.24491742,\n",
              "       4.61630876, 5.12713439, 5.53259949, 5.37844881, 5.53259949,\n",
              "       5.53259949, 5.53259949, 5.24491742, 5.53259949, 5.37844881,\n",
              "       4.55177024, 5.24491742, 5.12713439, 4.14630513, 4.06626242,\n",
              "       4.18886475, 5.53259949, 4.7594096 , 3.79799844, 5.24491742,\n",
              "       5.53259949, 5.53259949, 5.12713439, 5.12713439, 5.53259949,\n",
              "       4.83945231, 4.83945231, 4.61630876, 5.02177387, 5.37844881,\n",
              "       3.63547951, 5.37844881, 4.23331651, 5.37844881, 4.92646369,\n",
              "       5.53259949, 5.37844881, 4.92646369, 5.53259949, 5.37844881,\n",
              "       4.32862669, 4.10548314, 5.24491742, 4.92646369, 4.49114562,\n",
              "       3.79799844, 3.89037176, 4.7594096 , 4.55177024, 5.12713439,\n",
              "       5.24491742, 5.12713439, 5.24491742, 4.61630876, 5.37844881,\n",
              "       5.53259949, 4.7594096 , 5.12713439, 4.7594096 , 4.7594096 ,\n",
              "       5.37844881, 5.02177387, 5.53259949, 4.68530163, 5.53259949,\n",
              "       4.7594096 , 3.99215445, 5.53259949, 5.37844881, 5.37844881,\n",
              "       5.53259949, 5.24491742, 5.12713439, 4.68530163, 5.53259949,\n",
              "       4.92646369, 5.53259949, 5.53259949, 4.55177024, 5.24491742,\n",
              "       5.53259949, 4.83945231, 5.02177387, 4.06626242, 5.37844881,\n",
              "       5.53259949, 5.24491742, 5.37844881, 5.02177387, 4.61630876,\n",
              "       5.02177387, 5.37844881, 4.32862669, 5.37844881, 4.4339872 ,\n",
              "       5.53259949, 5.24491742, 5.53259949, 4.55177024, 5.37844881,\n",
              "       4.0285221 , 4.49114562, 5.12713439, 5.37844881, 5.12713439,\n",
              "       4.83945231, 5.12713439, 4.32862669, 4.10548314, 5.37844881,\n",
              "       4.49114562, 5.53259949, 4.92646369, 5.12713439, 4.4339872 ,\n",
              "       4.55177024, 4.7594096 , 5.02177387, 5.37844881, 5.53259949,\n",
              "       5.53259949, 5.12713439, 5.37844881, 5.24491742, 5.37844881,\n",
              "       4.92646369, 5.02177387, 5.37844881, 4.61630876, 5.12713439,\n",
              "       5.02177387])"
            ]
          },
          "metadata": {},
          "execution_count": 55
        }
      ]
    },
    {
      "cell_type": "code",
      "source": [
        "# Importing libraries\n",
        "import pandas as pd\n",
        "from sklearn.pipeline import Pipeline\n",
        "from sklearn.feature_extraction.text import TfidfVectorizer\n",
        "from sklearn.ensemble import RandomForestClassifier\n",
        "from sklearn.metrics import precision_score, recall_score, f1_score, classification_report\n",
        "from sklearn.model_selection import train_test_split, RandomizedSearchCV\n",
        "import xgboost as xgb"
      ],
      "metadata": {
        "id": "DD1FHHm4j6Ck"
      },
      "execution_count": 56,
      "outputs": []
    },
    {
      "cell_type": "code",
      "source": [
        "# Split data into train and test sets\n",
        "train_data, test_data = train_test_split(data, test_size=0.2, random_state=42)\n",
        "train_data.head"
      ],
      "metadata": {
        "id": "l4rJoqkRMcmN",
        "colab": {
          "base_uri": "https://localhost:8080/"
        },
        "outputId": "13b88022-6009-49e8-844a-e3ebad016af9"
      },
      "execution_count": 75,
      "outputs": [
        {
          "output_type": "execute_result",
          "data": {
            "text/plain": [
              "<bound method NDFrame.head of       label                                            message\n",
              "1978      1  no i'm in the same boat. still here at my moms...\n",
              "3989      0  (bank of granite issues strong-buy) explosive ...\n",
              "3935      1     they r giving a second chance to rahul dengra.\n",
              "4078      1     o i played smash bros  &lt;#&gt;  religiously.\n",
              "4086      0  private! your 2003 account statement for 07973...\n",
              "...     ...                                                ...\n",
              "3772      1  i came hostel. i m going to sleep. plz call me...\n",
              "5191      1                             sorry, i'll call later\n",
              "5226      1      prabha..i'm soryda..realy..frm heart i'm sory\n",
              "5390      1                         nt joking seriously i told\n",
              "860       1                in work now. going have in few min.\n",
              "\n",
              "[4457 rows x 2 columns]>"
            ]
          },
          "metadata": {},
          "execution_count": 75
        }
      ]
    },
    {
      "cell_type": "code",
      "source": [
        "# Define pipeline 1\n",
        "pipeline_1 = Pipeline([\n",
        "    ('tfidf', TfidfVectorizer()),\n",
        "    ('clf', xgb.XGBClassifier())\n",
        "])\n",
        "\n",
        "# Define the parameter grid\n",
        "param_grid = {\n",
        "    'tfidf__max_features': [1000, 2000, 3000],\n",
        "    'clf__learning_rate': [0.01, 0.1, 0.2],\n",
        "    'clf__max_depth': [3, 5, 7],\n",
        "    'clf__n_estimators': [100, 200, 300]\n",
        "}\n",
        "\n",
        "# Create randomized search\n",
        "random_search_1 = RandomizedSearchCV(estimator=pipeline_1, param_distributions=param_grid, n_iter=10, cv=5, random_state=42)\n"
      ],
      "metadata": {
        "id": "qZQsoce2UgGZ"
      },
      "execution_count": 76,
      "outputs": []
    },
    {
      "cell_type": "code",
      "source": [
        "# Define pipeline 2\n",
        "pipeline_2 = Pipeline([\n",
        "    ('tfidf', TfidfVectorizer()),\n",
        "    ('clf', RandomForestClassifier())\n",
        "])\n",
        "\n",
        "# Define the parameter grid for Random Forest\n",
        "param_grid_rf = {\n",
        "    'tfidf__max_features': [1000, 2000, 3000],\n",
        "    'clf__n_estimators': [100, 200, 300],\n",
        "    'clf__max_depth': [3, 5, 7],\n",
        "    'clf__min_samples_split': [2, 5, 10],\n",
        "    'clf__min_samples_leaf': [1, 2, 4]\n",
        "}\n",
        "\n",
        "# Create randomized search\n",
        "random_search_2 = RandomizedSearchCV(estimator=pipeline_2, param_distributions=param_grid_rf, n_iter=10, cv=5, random_state=42)\n",
        "\n",
        "# Define pipeline 3\n",
        "pipeline_3 = Pipeline([\n",
        "    ('tfidf', TfidfVectorizer()),\n",
        "    ('clf', RandomForestClassifier())\n",
        "])\n",
        "\n",
        "# Randomized search\n",
        "random_search_3 = RandomizedSearchCV(estimator=pipeline_3, param_distributions=param_grid_rf, n_iter=10, cv=5, random_state=42)\n"
      ],
      "metadata": {
        "id": "iiIHD9lXYu1O"
      },
      "execution_count": 77,
      "outputs": []
    },
    {
      "cell_type": "code",
      "source": [
        "# Evaluate pipeline 1\n",
        "# Fit the randomized search to find the best model\n",
        "random_search_1.fit(train_data['message'], train_data['label'])\n",
        "\n",
        "# Get the best model from the random search\n",
        "best_model_1 = random_search_1.best_estimator_\n",
        "\n",
        "# Make predictions using the best model\n",
        "predictions_1 = best_model_1.predict(test_data['message'])\n",
        "\n",
        "# Now you can evaluate the predictions using the appropriate evaluation metrics\n",
        "precision_1 = precision_score(test_data['label'], predictions_1, pos_label=0)\n",
        "recall_1 = recall_score(test_data['label'], predictions_1, pos_label=0)\n",
        "f1_1 = f1_score(test_data['label'], predictions_1, pos_label=0)\n",
        "\n",
        "# Create a classification report\n",
        "classification_report_1 = classification_report(test_data['label'], predictions_1)"
      ],
      "metadata": {
        "id": "tSTiCKt7Uu-j"
      },
      "execution_count": 78,
      "outputs": []
    },
    {
      "cell_type": "code",
      "source": [
        "# Evaluate pipeline 2\n",
        "# Fit the randomized search to find the best model\n",
        "random_search_2.fit(train_data['message'], train_data['label'])\n",
        "\n",
        "# Get the best model from the random search\n",
        "best_model_2 = random_search_2.best_estimator_\n",
        "\n",
        "# Make predictions using the best model\n",
        "predictions_2 = best_model_2.predict(test_data['message'])\n",
        "\n",
        "# Now you can evaluate the predictions using the appropriate evaluation metrics\n",
        "precision_2 = precision_score(test_data['label'], predictions_2, pos_label=0)\n",
        "recall_2 = recall_score(test_data['label'], predictions_2, pos_label=0)\n",
        "f1_2 = f1_score(test_data['label'], predictions_2, pos_label=0)\n",
        "\n",
        "# Create a classification report\n",
        "classification_report_2 = classification_report(test_data['label'], predictions_2)"
      ],
      "metadata": {
        "id": "-canZHItU3Vk"
      },
      "execution_count": 79,
      "outputs": []
    },
    {
      "cell_type": "code",
      "source": [
        "# Evaluate pipeline 3\n",
        "# Fit the randomized search to find the best model\n",
        "random_search_3.fit(train_data['message'], train_data['label'])\n",
        "\n",
        "# Get the best model from the random search\n",
        "best_model_3 = random_search_3.best_estimator_\n",
        "\n",
        "# Make predictions using the best model\n",
        "predictions_3 = best_model_3.predict(test_data['message'])\n",
        "\n",
        "# Now you can evaluate the predictions using the appropriate evaluation metrics\n",
        "precision_3 = precision_score(test_data['label'], predictions_3, pos_label=0)\n",
        "recall_3 = recall_score(test_data['label'], predictions_3, pos_label=0)\n",
        "f1_3 = f1_score(test_data['label'], predictions_3, pos_label=0)\n",
        "\n",
        "# Create a classification report\n",
        "classification_report_3 = classification_report(test_data['label'], predictions_3)"
      ],
      "metadata": {
        "id": "CM2W8II4IDMi"
      },
      "execution_count": 80,
      "outputs": []
    },
    {
      "cell_type": "code",
      "source": [
        "# Print evaluation metrics\n",
        "print(\"Pipeline 1:\")\n",
        "print(f\"Precision: {precision_1}\")\n",
        "print(f\"Recall: {recall_1}\")\n",
        "print(f\"F1 Score: {f1_1}\")\n",
        "print(classification_report_1)\n",
        "\n",
        "print(\"\\nPipeline 2:\")\n",
        "print(f\"Precision: {precision_2}\")\n",
        "print(f\"Recall: {recall_2}\")\n",
        "print(f\"F1 Score: {f1_2}\")\n",
        "print(classification_report_2)\n",
        "\n",
        "print(\"\\nPipeline 3:\")\n",
        "print(f\"Precision: {precision_3}\")\n",
        "print(f\"Recall: {recall_3}\")\n",
        "print(f\"F1 Score: {f1_3}\")\n",
        "print(classification_report_3)"
      ],
      "metadata": {
        "colab": {
          "base_uri": "https://localhost:8080/"
        },
        "id": "W_OovzCZIE6K",
        "outputId": "be86f128-aa5e-461d-9d70-704a33e17741"
      },
      "execution_count": 81,
      "outputs": [
        {
          "output_type": "stream",
          "name": "stdout",
          "text": [
            "Pipeline 1:\n",
            "Precision: 0.9703703703703703\n",
            "Recall: 0.8733333333333333\n",
            "F1 Score: 0.9192982456140351\n",
            "              precision    recall  f1-score   support\n",
            "\n",
            "           0       0.97      0.87      0.92       150\n",
            "           1       0.98      1.00      0.99       965\n",
            "\n",
            "    accuracy                           0.98      1115\n",
            "   macro avg       0.98      0.93      0.95      1115\n",
            "weighted avg       0.98      0.98      0.98      1115\n",
            "\n",
            "\n",
            "Pipeline 2:\n",
            "Precision: 1.0\n",
            "Recall: 0.28\n",
            "F1 Score: 0.43750000000000006\n",
            "              precision    recall  f1-score   support\n",
            "\n",
            "           0       1.00      0.28      0.44       150\n",
            "           1       0.90      1.00      0.95       965\n",
            "\n",
            "    accuracy                           0.90      1115\n",
            "   macro avg       0.95      0.64      0.69      1115\n",
            "weighted avg       0.91      0.90      0.88      1115\n",
            "\n",
            "\n",
            "Pipeline 3:\n",
            "Precision: 1.0\n",
            "Recall: 0.26666666666666666\n",
            "F1 Score: 0.4210526315789474\n",
            "              precision    recall  f1-score   support\n",
            "\n",
            "           0       1.00      0.27      0.42       150\n",
            "           1       0.90      1.00      0.95       965\n",
            "\n",
            "    accuracy                           0.90      1115\n",
            "   macro avg       0.95      0.63      0.68      1115\n",
            "weighted avg       0.91      0.90      0.88      1115\n",
            "\n"
          ]
        }
      ]
    },
    {
      "cell_type": "markdown",
      "source": [
        "Pipeline 1 has the highest F1 score, making it the best model."
      ],
      "metadata": {
        "id": "i9cwxo39IRo-"
      }
    },
    {
      "cell_type": "code",
      "source": [],
      "metadata": {
        "id": "ctfGTHUKIZDu"
      },
      "execution_count": null,
      "outputs": []
    }
  ]
}