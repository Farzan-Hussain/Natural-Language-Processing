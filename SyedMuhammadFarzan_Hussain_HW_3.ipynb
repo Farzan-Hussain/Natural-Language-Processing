{
  "cells": [
    {
      "cell_type": "markdown",
      "id": "Q4vVUgxxDJD0",
      "metadata": {
        "id": "Q4vVUgxxDJD0"
      },
      "source": [
        "# <font color = 'indianred'>**HW3 - 20 Points** </font>\n",
        "- **You have to submit two files for this part of the HW**\n",
        "  >(1) ipynb (colab notebook) and<br>\n",
        "  >(2) pdf file (pdf version of the colab file).**\n",
        "- **Files should be named as follows**:\n",
        ">FirstName_LastName_HW_3**\n"
      ]
    },
    {
      "cell_type": "markdown",
      "id": "c32ad0f3-a41b-477a-ad23-105010ed39e1",
      "metadata": {
        "id": "c32ad0f3-a41b-477a-ad23-105010ed39e1"
      },
      "source": [
        "# <font color = 'indianred'>**Task 1 - Autodiff - 5 Points**"
      ]
    },
    {
      "cell_type": "code",
      "execution_count": 60,
      "id": "IsWkg1CufBwg",
      "metadata": {
        "id": "IsWkg1CufBwg"
      },
      "outputs": [],
      "source": [
        "import torch\n",
        "import torch.nn as nn"
      ]
    },
    {
      "cell_type": "markdown",
      "id": "uSj20OEuf6bf",
      "metadata": {
        "id": "uSj20OEuf6bf"
      },
      "source": [
        "##  <font color = 'indianred'>**Q1 -Normalize Function (1 Points)**<font>\n",
        "\n",
        "Write the function that normalizes the columns of a matrix. You have to compute the mean and standard deviation of each column. Then for each element of the column, you subtract the mean and divide by the standard deviation."
      ]
    },
    {
      "cell_type": "code",
      "execution_count": 61,
      "id": "8L9JBFNilkWt",
      "metadata": {
        "id": "8L9JBFNilkWt"
      },
      "outputs": [],
      "source": [
        "# Given Data\n",
        "x = [[ 3,  60,  100, -100],\n",
        "     [ 2,  20,  600, -600],\n",
        "     [-5,  50,  900, -900]]"
      ]
    },
    {
      "cell_type": "code",
      "execution_count": 62,
      "id": "iRrhopVBl-0q",
      "metadata": {
        "id": "iRrhopVBl-0q"
      },
      "outputs": [],
      "source": [
        "# Convert to PyTorch Tensor and set to float\n",
        "X = torch.tensor(x)\n",
        "X= X.float()"
      ]
    },
    {
      "cell_type": "code",
      "execution_count": 63,
      "id": "S2MaocHxmEQJ",
      "metadata": {
        "id": "S2MaocHxmEQJ",
        "colab": {
          "base_uri": "https://localhost:8080/"
        },
        "outputId": "13701f21-fda1-42b5-9cdd-bd5b29db0db2"
      },
      "outputs": [
        {
          "output_type": "stream",
          "name": "stdout",
          "text": [
            "torch.Size([3, 4])\n",
            "torch.float32\n"
          ]
        }
      ],
      "source": [
        "# Print shape and data type for verification\n",
        "print(X.shape)\n",
        "print(X.dtype)"
      ]
    },
    {
      "cell_type": "code",
      "execution_count": 66,
      "id": "rPgb1L9RmQAU",
      "metadata": {
        "id": "rPgb1L9RmQAU",
        "colab": {
          "base_uri": "https://localhost:8080/"
        },
        "outputId": "a8e387b7-e98d-406c-c8a0-d23f0d9e6704"
      },
      "outputs": [
        {
          "output_type": "execute_result",
          "data": {
            "text/plain": [
              "tensor([   0.0000,   43.3333,  533.3333, -533.3333])"
            ]
          },
          "metadata": {},
          "execution_count": 66
        }
      ],
      "source": [
        "# Compute and display the mean and standard deviation of each column for reference\n",
        "X.mean(axis = 0)"
      ]
    },
    {
      "cell_type": "code",
      "execution_count": 65,
      "id": "qnM87Db1mqFH",
      "metadata": {
        "id": "qnM87Db1mqFH",
        "colab": {
          "base_uri": "https://localhost:8080/"
        },
        "outputId": "4d0f5334-9e96-4073-ec52-cd61a11b1a88"
      },
      "outputs": [
        {
          "output_type": "execute_result",
          "data": {
            "text/plain": [
              "tensor([  4.3589,  20.8167, 404.1452, 404.1452])"
            ]
          },
          "metadata": {},
          "execution_count": 65
        }
      ],
      "source": [
        "X.std(axis = 0)"
      ]
    },
    {
      "cell_type": "markdown",
      "source": [
        "- Your task starts here\n",
        "- Your normalize_matrix function should take a PyTorch tensor x as input.\n",
        "- It should return a tensor where the columns are normalized.\n",
        "- After implementing your function, use the code provided to verify if the mean for each column in Z is close to zero and the standard deviation is 1."
      ],
      "metadata": {
        "id": "Yy2hehDnJHOq"
      },
      "id": "Yy2hehDnJHOq"
    },
    {
      "cell_type": "code",
      "execution_count": 67,
      "id": "mwq8qnqFlu9V",
      "metadata": {
        "id": "mwq8qnqFlu9V"
      },
      "outputs": [],
      "source": [
        "def normalize_matrix(x):\n",
        "  # Calculate the mean along each column (think carefully , you will take mean along axis = 0 or 1)\n",
        "  mean = X.mean(axis = 0)\n",
        "\n",
        "  # Calculate the standard deviation along each column\n",
        "  std = X.std(axis = 0)\n",
        "\n",
        "  # Normalize each element in the columns by subtracting the mean and dividing by the standard deviation\n",
        "  y = (X - mean)/std\n",
        "\n",
        "  return y  # Return the normalized matrix\n",
        "\n"
      ]
    },
    {
      "cell_type": "code",
      "execution_count": 68,
      "id": "m027Qcgwm9OL",
      "metadata": {
        "id": "m027Qcgwm9OL",
        "colab": {
          "base_uri": "https://localhost:8080/"
        },
        "outputId": "8a1f1a78-ec16-4048-8822-30b6d153d7e6"
      },
      "outputs": [
        {
          "output_type": "execute_result",
          "data": {
            "text/plain": [
              "tensor([[ 0.6882,  0.8006, -1.0722,  1.0722],\n",
              "        [ 0.4588, -1.1209,  0.1650, -0.1650],\n",
              "        [-1.1471,  0.3203,  0.9073, -0.9073]])"
            ]
          },
          "metadata": {},
          "execution_count": 68
        }
      ],
      "source": [
        "Z = normalize_matrix(X)\n",
        "Z"
      ]
    },
    {
      "cell_type": "code",
      "execution_count": 69,
      "id": "78-0D3KfnHel",
      "metadata": {
        "id": "78-0D3KfnHel",
        "colab": {
          "base_uri": "https://localhost:8080/"
        },
        "outputId": "042f0ab2-0177-4daf-8b8d-b5e7970ead32"
      },
      "outputs": [
        {
          "output_type": "execute_result",
          "data": {
            "text/plain": [
              "tensor([ 0.0000e+00,  4.9671e-08,  3.9736e-08, -3.9736e-08])"
            ]
          },
          "metadata": {},
          "execution_count": 69
        }
      ],
      "source": [
        "Z.mean(axis = 0)"
      ]
    },
    {
      "cell_type": "code",
      "execution_count": 70,
      "id": "NETkPmz8n142",
      "metadata": {
        "id": "NETkPmz8n142",
        "colab": {
          "base_uri": "https://localhost:8080/"
        },
        "outputId": "dd289bfa-95e5-4a7b-af6c-1e30ea799a2b"
      },
      "outputs": [
        {
          "output_type": "execute_result",
          "data": {
            "text/plain": [
              "tensor([1., 1., 1., 1.])"
            ]
          },
          "metadata": {},
          "execution_count": 70
        }
      ],
      "source": [
        "Z.std(axis = 0)"
      ]
    },
    {
      "cell_type": "markdown",
      "id": "b2816679-bf3f-4f97-82b7-3b1f9780b609",
      "metadata": {
        "id": "b2816679-bf3f-4f97-82b7-3b1f9780b609"
      },
      "source": [
        "##  <font color = 'indianred'>**Q2 -Calculate Gradients 1.5 Point**\n",
        "\n",
        "Compute Gradient using  PyTorch Autograd - 2 Points\n",
        "## $f(x,y) = \\frac{x + \\exp(y)}{\\log(x) + (x-y)^3}$\n",
        "Compute dx and dy at x=3 and y=4"
      ]
    },
    {
      "cell_type": "code",
      "execution_count": 71,
      "id": "rcDTwteKbZUH",
      "metadata": {
        "id": "rcDTwteKbZUH",
        "colab": {
          "base_uri": "https://localhost:8080/"
        },
        "outputId": "8fef9c52-4573-478c-a83f-d4f51648132e"
      },
      "outputs": [
        {
          "output_type": "stream",
          "name": "stdout",
          "text": [
            "The gradient is: 584.0869409997873\n"
          ]
        }
      ],
      "source": [
        "import math\n",
        "\n",
        "def fxy(x, y):\n",
        "  # Calculate the numerator: Add x to the exponential of y\n",
        "  num = x + math.exp(y)\n",
        "\n",
        "  # Calculate the denominator: Sum of the logarithm of x and cube of the difference between x and y\n",
        "  den = math.log(x) + (x - y)**3\n",
        "\n",
        "  # Perform element-wise division of the numerator by the denominator\n",
        "  return num/den\n",
        "\n",
        "# Computing dx and dy at x = 3 and y = 4\n",
        "print(\"The gradient is:\", fxy(3, 4))"
      ]
    },
    {
      "cell_type": "code",
      "execution_count": 73,
      "id": "0ADHy2FqfP8S",
      "metadata": {
        "id": "0ADHy2FqfP8S"
      },
      "outputs": [],
      "source": [
        "# Create a single-element tensor 'x' containing the value 3.0\n",
        "# make sure to set 'requires_grad=True' as you want to compute gradients with respect to this tensor during backpropagation\n",
        "x = torch.tensor(3.0, requires_grad = True)\n",
        "\n",
        "# Create a single-element tensor 'y' containing the value 4.0\n",
        "# Similar to 'x', we want to compute gradients for 'y' during backpropagation, hence make sure to set 'requires_grad=True'\n",
        "y = torch.tensor(4.0, requires_grad = True)\n"
      ]
    },
    {
      "cell_type": "code",
      "execution_count": 74,
      "id": "_2HFXif6fg7A",
      "metadata": {
        "id": "_2HFXif6fg7A",
        "colab": {
          "base_uri": "https://localhost:8080/"
        },
        "outputId": "0d724945-7b5e-49d5-818b-beb7269f380a"
      },
      "outputs": [
        {
          "output_type": "stream",
          "name": "stdout",
          "text": [
            "torch.float32\n"
          ]
        },
        {
          "output_type": "execute_result",
          "data": {
            "text/plain": [
              "tensor(584.0868, grad_fn=<DivBackward0>)"
            ]
          },
          "metadata": {},
          "execution_count": 74
        }
      ],
      "source": [
        "# Call the function 'fxy' with the tensors 'x' and 'y' as arguments\n",
        "# The result 'f' will also be a tensor and will contain derivative information because 'x' and 'y' have 'requires_grad=True'\n",
        "f = fxy(x, y)\n",
        "print(f.dtype)\n",
        "f"
      ]
    },
    {
      "cell_type": "code",
      "execution_count": 75,
      "id": "TbZiDeTXfrLf",
      "metadata": {
        "id": "TbZiDeTXfrLf"
      },
      "outputs": [],
      "source": [
        "# Perform backpropagation to compute the gradients of 'f' with respect to 'x' and 'y'\n",
        "# Hint use backward() function on f\n",
        "f.backward()"
      ]
    },
    {
      "cell_type": "code",
      "execution_count": 76,
      "id": "7al8BVZKf3R7",
      "metadata": {
        "id": "7al8BVZKf3R7",
        "colab": {
          "base_uri": "https://localhost:8080/"
        },
        "outputId": "bfc8bca0-aac5-4d26-f001-bb08fbfcce9c"
      },
      "outputs": [
        {
          "output_type": "stream",
          "name": "stdout",
          "text": [
            "x.grad = tensor(-17759.0430)\n",
            "y.grad = tensor(17769.1836)\n"
          ]
        }
      ],
      "source": [
        "# Display the computed gradients of 'f' with respect to 'x' and 'y'\n",
        "# These gradients are stored as attributes of x and y after the backward operation\n",
        "# Print the gradients for x and y\n",
        "print('x.grad =', x.grad)\n",
        "print('y.grad =', y.grad)"
      ]
    },
    {
      "cell_type": "markdown",
      "metadata": {
        "id": "RX5yKE-t0sEn"
      },
      "source": [
        "## <font color = 'indianred'>**Q6. Numerical Precision - 2.5 Points**\n",
        "\n",
        "Given scalars `x` and `y`, implement the following `log_exp` function such that it returns\n",
        "$$-\\log\\left(\\frac{e^x}{e^x+e^y}\\right)$$."
      ],
      "id": "RX5yKE-t0sEn"
    },
    {
      "cell_type": "code",
      "execution_count": 77,
      "metadata": {
        "ExecuteTime": {
          "end_time": "2019-01-29T22:48:56.206890Z",
          "start_time": "2019-01-29T22:48:56.202996Z"
        },
        "id": "nikSfenDC3c3"
      },
      "outputs": [],
      "source": [
        "#Question\n",
        "def log_exp(x, y):\n",
        "    ## add your solution here and remove pass\n",
        "    x_exp = torch.exp(x)\n",
        "    y_exp = torch.exp(y)\n",
        "    output = -torch.log((x_exp)/(x_exp + y_exp))\n",
        "    return output"
      ],
      "id": "nikSfenDC3c3"
    },
    {
      "cell_type": "markdown",
      "metadata": {
        "id": "ada0LKKYC3c3"
      },
      "source": [
        "Test your codes with normal inputs:"
      ],
      "id": "ada0LKKYC3c3"
    },
    {
      "cell_type": "code",
      "execution_count": 78,
      "metadata": {
        "ExecuteTime": {
          "end_time": "2019-01-29T22:48:56.215579Z",
          "start_time": "2019-01-29T22:48:56.209659Z"
        },
        "id": "oIZ0UETBC3c3",
        "colab": {
          "base_uri": "https://localhost:8080/"
        },
        "outputId": "7397d7ce-9073-4bd4-c57d-dc239e898bd7"
      },
      "outputs": [
        {
          "output_type": "execute_result",
          "data": {
            "text/plain": [
              "tensor([1.3133])"
            ]
          },
          "metadata": {},
          "execution_count": 78
        }
      ],
      "source": [
        "# Create tensors x and y with initial values 2.0 and 3.0, respectively\n",
        "x, y = torch.tensor([2.0]), torch.tensor([3.0])\n",
        "\n",
        "# Evaluate the function log_exp() for the given x and y, and store the output in z\n",
        "z = log_exp(x, y)\n",
        "\n",
        "# Display the computed value of z\n",
        "z\n"
      ],
      "id": "oIZ0UETBC3c3"
    },
    {
      "cell_type": "markdown",
      "metadata": {
        "id": "sbGtCaQ6C3c4"
      },
      "source": [
        "Now implement a function to compute $\\partial z/\\partial x$ and $\\partial z/\\partial y$ with `autograd`"
      ],
      "id": "sbGtCaQ6C3c4"
    },
    {
      "cell_type": "code",
      "execution_count": 79,
      "metadata": {
        "ExecuteTime": {
          "end_time": "2019-01-29T22:48:56.223303Z",
          "start_time": "2019-01-29T22:48:56.218056Z"
        },
        "id": "2kMC5IdJC3c4"
      },
      "outputs": [],
      "source": [
        "def grad(forward_func, x, y):\n",
        "  # Enable gradient tracking for x and y, set reauires_grad appropraitely\n",
        "  x.requires_grad_(True)\n",
        "  y.requires_grad_(True)\n",
        "\n",
        "  # Evaluate the forward function to get the output 'z'\n",
        "  z = forward_func(x, y)\n",
        "\n",
        "  # Perform the backward pass to compute gradients\n",
        "  # Hint use backward() function on z\n",
        "  z.backward()\n",
        "\n",
        "  # Print the gradients for x and y\n",
        "  print('x.grad =', x.grad)\n",
        "  print('y.grad =', y.grad)\n",
        "\n",
        "  # Reset the gradients for x and y to zero for the next iteration\n",
        "  x.grad.zero_()\n",
        "  y.grad.zero_()"
      ],
      "id": "2kMC5IdJC3c4"
    },
    {
      "cell_type": "markdown",
      "metadata": {
        "id": "g5Q3d5opC3c4"
      },
      "source": [
        "Test your codes, it should print the results nicely."
      ],
      "id": "g5Q3d5opC3c4"
    },
    {
      "cell_type": "code",
      "execution_count": 80,
      "metadata": {
        "ExecuteTime": {
          "end_time": "2019-01-29T22:48:56.267165Z",
          "start_time": "2019-01-29T22:48:56.227035Z"
        },
        "id": "oob8ND3BC3c4",
        "colab": {
          "base_uri": "https://localhost:8080/"
        },
        "outputId": "3ac2df75-8f24-4fd4-f42c-f98f27baa98e"
      },
      "outputs": [
        {
          "output_type": "stream",
          "name": "stdout",
          "text": [
            "x.grad = tensor([-0.7311])\n",
            "y.grad = tensor([0.7311])\n"
          ]
        }
      ],
      "source": [
        "grad(log_exp, x, y)"
      ],
      "id": "oob8ND3BC3c4"
    },
    {
      "cell_type": "markdown",
      "metadata": {
        "id": "L4nMM2joC3c4"
      },
      "source": [
        "But now let's try some \"hard\" inputs"
      ],
      "id": "L4nMM2joC3c4"
    },
    {
      "cell_type": "code",
      "execution_count": 20,
      "metadata": {
        "ExecuteTime": {
          "end_time": "2019-01-29T22:48:56.285842Z",
          "start_time": "2019-01-29T22:48:56.274079Z"
        },
        "id": "d_f5Xk41C3c4"
      },
      "outputs": [],
      "source": [
        "x, y = torch.tensor([50.0]), torch.tensor([100.0])"
      ],
      "id": "d_f5Xk41C3c4"
    },
    {
      "cell_type": "code",
      "execution_count": 81,
      "metadata": {
        "id": "ECgqQ_i-C3c4",
        "colab": {
          "base_uri": "https://localhost:8080/"
        },
        "outputId": "801f6764-f60d-46c6-ae3c-3527f3305f50"
      },
      "outputs": [
        {
          "output_type": "stream",
          "name": "stdout",
          "text": [
            "x.grad = tensor([-0.7311])\n",
            "y.grad = tensor([0.7311])\n"
          ]
        }
      ],
      "source": [
        "# you may see nan/inf values as output, this is not an error\n",
        "grad(log_exp, x, y)"
      ],
      "id": "ECgqQ_i-C3c4"
    },
    {
      "cell_type": "code",
      "execution_count": 82,
      "metadata": {
        "id": "kHsyDVblC3c4",
        "colab": {
          "base_uri": "https://localhost:8080/"
        },
        "outputId": "d14f194a-8c1a-43bb-d5f1-d9e1e489bbde"
      },
      "outputs": [
        {
          "output_type": "execute_result",
          "data": {
            "text/plain": [
              "tensor([inf])"
            ]
          },
          "metadata": {},
          "execution_count": 82
        }
      ],
      "source": [
        "# you may see nan/inf values as output, this is not an error\n",
        "torch.exp(torch.tensor([100.0]))"
      ],
      "id": "kHsyDVblC3c4"
    },
    {
      "cell_type": "markdown",
      "metadata": {
        "id": "clK0zCMjC3c4"
      },
      "source": [
        "Does your code return correct results? If not, try to understand the reason. (Hint, evaluate `exp(100)`). Now develop a new function `stable_log_exp` that is identical to `log_exp` in math, but returns a more numerical stable result.\n",
        "<br> Hint: (1) $\\log\\left(\\frac{x}{y}\\right) = log ({x}) -log({y})$\n",
        "<br> Hint: (2) See logsum Trick - https://www.xarg.org/2016/06/the-log-sum-exp-trick-in-machine-learning/"
      ],
      "id": "clK0zCMjC3c4"
    },
    {
      "cell_type": "code",
      "execution_count": 102,
      "metadata": {
        "ExecuteTime": {
          "end_time": "2019-01-29T22:48:56.305595Z",
          "start_time": "2019-01-29T22:48:56.293399Z"
        },
        "id": "alymet8aC3c4"
      },
      "outputs": [],
      "source": [
        "def stable_log_exp(x, y):\n",
        "    highest_val = torch.max(x, y)\n",
        "    x_exp = torch.exp(x - highest_val)\n",
        "    y_exp = torch.exp(y - highest_val)\n",
        "    return highest_val + torch.log(x_exp + y_exp)"
      ],
      "id": "alymet8aC3c4"
    },
    {
      "cell_type": "code",
      "execution_count": 103,
      "metadata": {
        "id": "ZsrgvsFh8UFq",
        "colab": {
          "base_uri": "https://localhost:8080/"
        },
        "outputId": "a5af329b-4e1f-420e-8737-dc8d3326747b"
      },
      "outputs": [
        {
          "output_type": "execute_result",
          "data": {
            "text/plain": [
              "tensor([1.3133], grad_fn=<NegBackward0>)"
            ]
          },
          "metadata": {},
          "execution_count": 103
        }
      ],
      "source": [
        "log_exp(x, y)"
      ],
      "id": "ZsrgvsFh8UFq"
    },
    {
      "cell_type": "code",
      "execution_count": 104,
      "metadata": {
        "id": "3NoH9aa48Lzf",
        "colab": {
          "base_uri": "https://localhost:8080/"
        },
        "outputId": "daca5914-21ee-47ff-cc5f-2aee001d8bbf"
      },
      "outputs": [
        {
          "output_type": "execute_result",
          "data": {
            "text/plain": [
              "tensor([3.3133], grad_fn=<AddBackward0>)"
            ]
          },
          "metadata": {},
          "execution_count": 104
        }
      ],
      "source": [
        "stable_log_exp(x, y)"
      ],
      "id": "3NoH9aa48Lzf"
    },
    {
      "cell_type": "code",
      "execution_count": 105,
      "metadata": {
        "id": "d1uQXi8AC3c5",
        "colab": {
          "base_uri": "https://localhost:8080/"
        },
        "outputId": "b5b9dcc7-9065-4c09-d5b7-c2b2b5de8e07"
      },
      "outputs": [
        {
          "output_type": "stream",
          "name": "stdout",
          "text": [
            "x.grad = tensor([0.2689])\n",
            "y.grad = tensor([0.7311])\n"
          ]
        }
      ],
      "source": [
        "grad(stable_log_exp, x, y)"
      ],
      "id": "d1uQXi8AC3c5"
    },
    {
      "cell_type": "markdown",
      "source": [
        "# <font color = 'indianred'>**Task 2 - Linear Regression using Batch Gradient Descent with PyTorch- 5 Points**"
      ],
      "metadata": {
        "id": "ozDFHD4w206j"
      },
      "id": "ozDFHD4w206j"
    },
    {
      "cell_type": "markdown",
      "metadata": {
        "id": "BYYL_jnG0B3i"
      },
      "source": [
        "# <font color = 'indianred'>**Regression using Pytroch**</font>\n",
        "\n",
        "Imagine that you're trying to figure out relationship between two variables x and y . You have some idea but you aren't quite sure yet whether the dependence is linear or quadratic.\n",
        "\n",
        "Your goal is to use least mean squares regression to identify the coefficients for the following three models. The three models are:\n",
        "\n",
        "1. Quadratic model where $\\mathrm{y} = b + w_1 \\cdot \\mathrm{x} + w_2 \\cdot \\mathrm{x}^2$.\n",
        "1. Linear model where $\\mathrm{y} = b + w_1 \\cdot \\mathrm{x}$.\n",
        "1. Linear model with no bias  where $\\mathrm{y} = w_1 \\cdot \\mathrm{x}$.\n",
        "\n",
        "- You will use <font color = 'indianred'>**Batch gradient descent to estimate the model co-efficients.Batch gradient descent uses complete training data at each iteration.**</font>\n",
        "- You will implement only training loop (no splitting of data in to training/validation).\n",
        "- The training loop will have only one ```for loop```. We need to iterate over whole data in each epoch. We do not need to create batches.\n",
        "- You may have to try different values of number of epochs/ learning rate to get good results.\n",
        "- You should use  Pytorch's nn.module and functions."
      ],
      "id": "BYYL_jnG0B3i"
    },
    {
      "cell_type": "markdown",
      "metadata": {
        "id": "JShaYAruM_9F"
      },
      "source": [
        "## <font color = 'indianred'> **Data**"
      ],
      "id": "JShaYAruM_9F"
    },
    {
      "cell_type": "code",
      "execution_count": 9,
      "metadata": {
        "id": "WUcQ0mpp3HNm"
      },
      "outputs": [],
      "source": [
        "x = torch.tensor([1.5420291, 1.8935232, 2.1603365, 2.5381863, 2.893443, \\\n",
        "                    3.838855, 3.925425, 4.2233696, 4.235571, 4.273397, \\\n",
        "                    4.9332876, 6.4704757, 6.517571, 6.87826, 7.0009003, \\\n",
        "                    7.035741, 7.278681, 7.7561755, 9.121138, 9.728281])\n",
        "y = torch.tensor([63.802246, 80.036026, 91.4903, 108.28776, 122.781975, \\\n",
        "                    161.36314, 166.50816, 176.16772, 180.29395, 179.09758, \\\n",
        "                    206.21027, 272.71857, 272.24033, 289.54745, 293.8488, \\\n",
        "                    295.2281, 306.62274, 327.93243, 383.16296, 408.65967])"
      ],
      "id": "WUcQ0mpp3HNm"
    },
    {
      "cell_type": "code",
      "source": [
        "x.shape"
      ],
      "metadata": {
        "colab": {
          "base_uri": "https://localhost:8080/"
        },
        "id": "01r-ibZUfMk_",
        "outputId": "e97de037-c8fd-49cf-867e-91776e6a9f12"
      },
      "id": "01r-ibZUfMk_",
      "execution_count": 10,
      "outputs": [
        {
          "output_type": "execute_result",
          "data": {
            "text/plain": [
              "torch.Size([20])"
            ]
          },
          "metadata": {},
          "execution_count": 10
        }
      ]
    },
    {
      "cell_type": "code",
      "execution_count": 11,
      "metadata": {
        "id": "rANPOz2gM6jM"
      },
      "outputs": [],
      "source": [
        "# Reshape the y tensor to have shape (n, 1), where n is the number of samples.\n",
        "# This is done to match the expected input shape for PyTorch's loss functions.\n",
        "y = y.reshape(20, 1)\n",
        "\n",
        "# Reshape the x tensor to have shape (n, 1), similar to y, for consistency and to work with matrix operations.\n",
        "x = x.reshape(20, 1)\n",
        "\n",
        "# Compute the square of each element in x.\n",
        "# This may be used for polynomial features in regression models.\n",
        "x2 = x * x"
      ],
      "id": "rANPOz2gM6jM"
    },
    {
      "cell_type": "code",
      "execution_count": 12,
      "metadata": {
        "id": "hqQS3ENqNE2l"
      },
      "outputs": [],
      "source": [
        "# Concatenate the original x tensor and its squared values (x2) along dimension 1 (columns).\n",
        "# This creates a new tensor with two features: the original x and x2 (its square) . This can be useful for polynomial regression.\n",
        "x_combined = torch.cat((x, x2), dim = 1)\n"
      ],
      "id": "hqQS3ENqNE2l"
    },
    {
      "cell_type": "code",
      "execution_count": 13,
      "metadata": {
        "id": "S50TcA7JNNtK",
        "colab": {
          "base_uri": "https://localhost:8080/"
        },
        "outputId": "cbf5f5d1-6739-431b-b749-aecc7d280db2"
      },
      "outputs": [
        {
          "output_type": "stream",
          "name": "stdout",
          "text": [
            "torch.Size([20, 2]) torch.Size([20, 1])\n"
          ]
        }
      ],
      "source": [
        "print(x_combined.shape, x.shape)"
      ],
      "id": "S50TcA7JNNtK"
    },
    {
      "cell_type": "markdown",
      "metadata": {
        "id": "mcxV6FYJo_Z6"
      },
      "source": [
        "##<font color = 'indianred'>**Loss Function**"
      ],
      "id": "mcxV6FYJo_Z6"
    },
    {
      "cell_type": "code",
      "execution_count": 14,
      "metadata": {
        "id": "HT8GelQSpFSR"
      },
      "outputs": [],
      "source": [
        "# Initialize Mean Squared Error (MSE) loss function with mean reduction\n",
        "# 'reduction=\"mean\"' averages the squared differences between predicted and target values\n",
        "loss_function = nn.MSELoss(reduction = 'mean')"
      ],
      "id": "HT8GelQSpFSR"
    },
    {
      "cell_type": "markdown",
      "metadata": {
        "id": "BbT4Z89HHvPb"
      },
      "source": [
        "## <font color = 'indianred'> **Train Function**"
      ],
      "id": "BbT4Z89HHvPb"
    },
    {
      "cell_type": "code",
      "execution_count": 15,
      "metadata": {
        "id": "FSJU5UgpNy6b"
      },
      "outputs": [],
      "source": [
        "def train(epochs, x, y, loss_function, log_interval, model, optimizer):\n",
        "    \"\"\"\n",
        "    Train a PyTorch model using gradient descent.\n",
        "\n",
        "    Parameters:\n",
        "    epochs (int): The number of training epochs.\n",
        "    x (torch.Tensor): The input features.\n",
        "    y (torch.Tensor): The ground truth labels.\n",
        "    loss_function (torch.nn.Module): The loss function to be minimized.\n",
        "    log_interval (int): The interval at which training information is logged.\n",
        "    model (torch.nn.Module): The PyTorch model to be trained.\n",
        "    optimizer (torch.optim.Optimizer): The optimizer for updating model parameters.\n",
        "\n",
        "    Side Effects:\n",
        "    - Modifies the input model's internal parameters during training.\n",
        "    - Outputs training log information at specified intervals.\n",
        "    \"\"\"\n",
        "\n",
        "\n",
        "    for epoch in range(epochs):\n",
        "\n",
        "        # Step 1: Forward pass - Compute predictions based on the input features\n",
        "        y_hat = model(x)\n",
        "\n",
        "        # Step 2: Compute Loss\n",
        "        loss = loss_function(y_hat,  y)\n",
        "\n",
        "        # Step 3: Zero Gradients - Clear previous gradient information to prevent accumulation\n",
        "        optimizer.zero_grad()\n",
        "\n",
        "        # Step 4: Calculate Gradients - Backpropagate the error to compute gradients for each parameter\n",
        "        loss.backward()\n",
        "\n",
        "        # Step 5: Update Model Parameters - Adjust weights based on computed gradients\n",
        "        optimizer.step()\n",
        "\n",
        "        # Log training information at specified intervals\n",
        "        if epoch % log_interval == 0:\n",
        "            print(f'epoch: {epoch + 1} --> loss {loss.item()}')\n",
        "\n"
      ],
      "id": "FSJU5UgpNy6b"
    },
    {
      "cell_type": "markdown",
      "metadata": {
        "id": "xns2sBYJm0dj"
      },
      "source": [
        "## <font color = 'indianred'> **Part 1**\n",
        "\n",
        "-  <font color = 'indianred'>**For Part 1, use x_combined (we need to use both $x$ and $x^2 $) as input to the model, this means that you have two inputs.**</font>\n",
        "- Use `nn.Linear` function to specify the model, <font color = 'indianred'>**think carefully what values the three arguments ```(n_ins, n_outs, bias)``` will take**.</font>.\n",
        "- In PyTorch, the `nn.Linear` layer initializes its weights using Kaiming (He) initialization by default, which is well-suited for ReLU activation functions. The bias terms are initialized to zero.\n",
        "-  In this assignment you will  use `nn.init` functions like `nn.init.normal_` and `nn.init.zeros_`, to explicitly override these default initializations to use your specified methods.\n",
        "\n",
        "\n",
        "**Run the cell below twice**\n",
        "\n",
        "**In the first attempt**\n",
        "- Use LEARNING_RATE = 0.05\n",
        "What do you observe?\n",
        "\n",
        "Write your observations HERE:\n",
        "\n",
        "**In the second attempt**\n",
        "- Now use a LEARNING_RATE  = 0.0005,\n",
        "What do you observe?\n",
        "\n",
        "Write your observations HERE:\n",
        "\n",
        "When the learning rate is set to 0.05, optimization is unstableand Nan values for weights and biases are observed. A learning rate of 0.0005 is more stable and leads to meaningful values and a usable model."
      ],
      "id": "xns2sBYJm0dj"
    },
    {
      "cell_type": "code",
      "execution_count": 16,
      "metadata": {
        "id": "utgwb7HyRZkm",
        "colab": {
          "base_uri": "https://localhost:8080/"
        },
        "outputId": "48f28afc-bdf0-42e1-834b-648dbabf7e80"
      },
      "outputs": [
        {
          "output_type": "stream",
          "name": "stdout",
          "text": [
            "epoch: 1 --> loss 58105.2734375\n",
            "epoch: 10001 --> loss nan\n",
            "epoch: 20001 --> loss nan\n",
            "epoch: 30001 --> loss nan\n",
            "epoch: 40001 --> loss nan\n",
            "epoch: 50001 --> loss nan\n",
            "epoch: 60001 --> loss nan\n",
            "epoch: 70001 --> loss nan\n",
            "epoch: 80001 --> loss nan\n",
            "epoch: 90001 --> loss nan\n"
          ]
        }
      ],
      "source": [
        "# model 1\n",
        "LEARNING_RATE = 0.05\n",
        "EPOCHS = 100000\n",
        "LOG_INTERVAL= 10000\n",
        "\n",
        "# Use PyTorch's nn.Linear to create the model for your task.\n",
        "# Based on your understanding of the problem at hand, decide how you will initialize the nn.Linear layer.\n",
        "# Take into consideration the number of input features, the number of output features, and whether or not to include a bias term.\n",
        "model = nn.Linear(2, 1, bias = True)\n",
        "\n",
        "# Initialize the weights of the model using a normal distribution with mean = 0 and std = 0.01\n",
        "# Hint: To initialize the model's weights, you can use the nn.init.normal_() function.\n",
        "# You will need to provide the 'model.weight' tensor and specify values for the 'mean' and 'std' arguments.\n",
        "nn.init.normal_(model.weight, mean = 0, std = 0.01)\n",
        "\n",
        "\n",
        "# Initialize the model's bias terms to zero\n",
        "# Hint: To set the model's bias terms to zero, consider using the nn.init.zeros_() function.\n",
        "# You'll need to supply 'model.bias' as an argument.\n",
        "nn.init.zeros_(model.bias)\n",
        "\n",
        "# Create an SGD (Stochastic Gradient Descent) optimizer using the model's parameters and a predefined learning rate\n",
        "import torch.optim as optim\n",
        "optimizer = optim.SGD(model.parameters(), lr = LEARNING_RATE)\n",
        "\n",
        "\n",
        "# Start the training process for the model with specified parameters and settings\n",
        "train(EPOCHS, x_combined, y, loss_function, LOG_INTERVAL, model, optimizer)\n"
      ],
      "id": "utgwb7HyRZkm"
    },
    {
      "cell_type": "code",
      "source": [
        "# model 2\n",
        "LEARNING_RATE = 0.0005\n",
        "EPOCHS = 100000\n",
        "LOG_INTERVAL= 10000\n",
        "\n",
        "# Use PyTorch's nn.Linear to create the model for your task.\n",
        "# Based on your understanding of the problem at hand, decide how you will initialize the nn.Linear layer.\n",
        "# Take into consideration the number of input features, the number of output features, and whether or not to include a bias term.\n",
        "model = nn.Linear(2, 1, bias = True)\n",
        "\n",
        "# Initialize the weights of the model using a normal distribution with mean = 0 and std = 0.01\n",
        "# Hint: To initialize the model's weights, you can use the nn.init.normal_() function.\n",
        "# You will need to provide the 'model.weight' tensor and specify values for the 'mean' and 'std' arguments.\n",
        "nn.init.normal_(model.weight, mean = 0, std = 0.01)\n",
        "\n",
        "\n",
        "# Initialize the model's bias terms to zero\n",
        "# Hint: To set the model's bias terms to zero, consider using the nn.init.zeros_() function.\n",
        "# You'll need to supply 'model.bias' as an argument.\n",
        "nn.init.zeros_(model.bias)\n",
        "\n",
        "# Create an SGD (Stochastic Gradient Descent) optimizer using the model's parameters and a predefined learning rate\n",
        "import torch.optim as optim\n",
        "optimizer = optim.SGD(model.parameters(), lr = LEARNING_RATE)\n",
        "\n",
        "\n",
        "# Start the training process for the model with specified parameters and settings\n",
        "train(EPOCHS, x_combined, y, loss_function, LOG_INTERVAL, model, optimizer)\n"
      ],
      "metadata": {
        "colab": {
          "base_uri": "https://localhost:8080/"
        },
        "id": "fy3TALJqhLxq",
        "outputId": "0a04d795-13e1-4622-e66d-c6902072dc46"
      },
      "id": "fy3TALJqhLxq",
      "execution_count": 17,
      "outputs": [
        {
          "output_type": "stream",
          "name": "stdout",
          "text": [
            "epoch: 1 --> loss 57967.8984375\n",
            "epoch: 10001 --> loss 5.000334739685059\n",
            "epoch: 20001 --> loss 3.093712568283081\n",
            "epoch: 30001 --> loss 2.136976480484009\n",
            "epoch: 40001 --> loss 1.656863808631897\n",
            "epoch: 50001 --> loss 1.415928602218628\n",
            "epoch: 60001 --> loss 1.294879674911499\n",
            "epoch: 70001 --> loss 1.2340816259384155\n",
            "epoch: 80001 --> loss 1.2035696506500244\n",
            "epoch: 90001 --> loss 1.1881946325302124\n"
          ]
        }
      ]
    },
    {
      "cell_type": "code",
      "execution_count": 18,
      "metadata": {
        "id": "vYu7XpVUXe6F",
        "colab": {
          "base_uri": "https://localhost:8080/"
        },
        "outputId": "96a4d3e9-f881-4a64-bd08-3d6aedaf1528"
      },
      "outputs": [
        {
          "output_type": "stream",
          "name": "stdout",
          "text": [
            " Weights tensor([[4.1796e+01, 1.4821e-02]]), \n",
            "Bias: tensor([0.9772])\n"
          ]
        }
      ],
      "source": [
        "print(f' Weights {model.weight.data}, \\nBias: {model.bias.data}')"
      ],
      "id": "vYu7XpVUXe6F"
    },
    {
      "cell_type": "markdown",
      "metadata": {
        "id": "yjBjky9Hm7Up"
      },
      "source": [
        "## <font color = 'indianred'> **Part 2**\n",
        "\n",
        "-  <font color = 'indianred'>**For Part 2, use $x$ as input to the model, this means that you have only one input.**</font>\n",
        "- Use `nn.Linear` to specify the model, <font color = 'indianred'>**think carefully what values the three arguments ```(n_ins, n_outs, bias)``` will take**.</font>.\n"
      ],
      "id": "yjBjky9Hm7Up"
    },
    {
      "cell_type": "code",
      "execution_count": 19,
      "metadata": {
        "id": "ELy7vX8Fm7Up",
        "colab": {
          "base_uri": "https://localhost:8080/"
        },
        "outputId": "bd493cbd-2ced-4261-898c-24200cc77ae9"
      },
      "outputs": [
        {
          "output_type": "stream",
          "name": "stdout",
          "text": [
            "epoch: 1 --> loss 57899.51953125\n",
            "epoch: 11 --> loss 6.966967582702637\n",
            "epoch: 21 --> loss 6.593293190002441\n",
            "epoch: 31 --> loss 6.243739128112793\n",
            "epoch: 41 --> loss 5.916747570037842\n",
            "epoch: 51 --> loss 5.610820293426514\n",
            "epoch: 61 --> loss 5.324639320373535\n",
            "epoch: 71 --> loss 5.056893825531006\n",
            "epoch: 81 --> loss 4.806427478790283\n",
            "epoch: 91 --> loss 4.572101593017578\n",
            "epoch: 101 --> loss 4.352867603302002\n",
            "epoch: 111 --> loss 4.147799491882324\n",
            "epoch: 121 --> loss 3.955965042114258\n",
            "epoch: 131 --> loss 3.776472568511963\n",
            "epoch: 141 --> loss 3.6085638999938965\n",
            "epoch: 151 --> loss 3.4514670372009277\n",
            "epoch: 161 --> loss 3.3045272827148438\n",
            "epoch: 171 --> loss 3.167065143585205\n",
            "epoch: 181 --> loss 3.0384480953216553\n",
            "epoch: 191 --> loss 2.9181323051452637\n",
            "epoch: 201 --> loss 2.80557918548584\n",
            "epoch: 211 --> loss 2.700270175933838\n",
            "epoch: 221 --> loss 2.601752996444702\n",
            "epoch: 231 --> loss 2.5096099376678467\n",
            "epoch: 241 --> loss 2.4233810901641846\n",
            "epoch: 251 --> loss 2.342738389968872\n",
            "epoch: 261 --> loss 2.267277479171753\n",
            "epoch: 271 --> loss 2.196704387664795\n",
            "epoch: 281 --> loss 2.130664110183716\n",
            "epoch: 291 --> loss 2.068875789642334\n",
            "epoch: 301 --> loss 2.011084794998169\n",
            "epoch: 311 --> loss 1.9570188522338867\n",
            "epoch: 321 --> loss 1.9064433574676514\n",
            "epoch: 331 --> loss 1.8591277599334717\n",
            "epoch: 341 --> loss 1.814856767654419\n",
            "epoch: 351 --> loss 1.7734334468841553\n",
            "epoch: 361 --> loss 1.7347015142440796\n",
            "epoch: 371 --> loss 1.6984460353851318\n",
            "epoch: 381 --> loss 1.6645402908325195\n",
            "epoch: 391 --> loss 1.6328322887420654\n",
            "epoch: 401 --> loss 1.6031547784805298\n",
            "epoch: 411 --> loss 1.5753841400146484\n",
            "epoch: 421 --> loss 1.5494152307510376\n",
            "epoch: 431 --> loss 1.5251128673553467\n",
            "epoch: 441 --> loss 1.5023868083953857\n",
            "epoch: 451 --> loss 1.4811201095581055\n",
            "epoch: 461 --> loss 1.4612352848052979\n",
            "epoch: 471 --> loss 1.4426286220550537\n",
            "epoch: 481 --> loss 1.425210952758789\n",
            "epoch: 491 --> loss 1.4089245796203613\n",
            "epoch: 501 --> loss 1.3936944007873535\n",
            "epoch: 511 --> loss 1.3794318437576294\n",
            "epoch: 521 --> loss 1.3660895824432373\n",
            "epoch: 531 --> loss 1.3536237478256226\n",
            "epoch: 541 --> loss 1.3419479131698608\n",
            "epoch: 551 --> loss 1.3310308456420898\n",
            "epoch: 561 --> loss 1.320816993713379\n",
            "epoch: 571 --> loss 1.311262845993042\n",
            "epoch: 581 --> loss 1.3023231029510498\n",
            "epoch: 591 --> loss 1.2939659357070923\n",
            "epoch: 601 --> loss 1.286134958267212\n",
            "epoch: 611 --> loss 1.2788136005401611\n",
            "epoch: 621 --> loss 1.2719751596450806\n",
            "epoch: 631 --> loss 1.265560507774353\n",
            "epoch: 641 --> loss 1.2595679759979248\n",
            "epoch: 651 --> loss 1.25396728515625\n",
            "epoch: 661 --> loss 1.2487199306488037\n",
            "epoch: 671 --> loss 1.2438217401504517\n",
            "epoch: 681 --> loss 1.2392252683639526\n",
            "epoch: 691 --> loss 1.2349307537078857\n",
            "epoch: 701 --> loss 1.2309080362319946\n",
            "epoch: 711 --> loss 1.2271556854248047\n",
            "epoch: 721 --> loss 1.2236335277557373\n",
            "epoch: 731 --> loss 1.220348834991455\n",
            "epoch: 741 --> loss 1.217275857925415\n",
            "epoch: 751 --> loss 1.214394211769104\n",
            "epoch: 761 --> loss 1.211703896522522\n",
            "epoch: 771 --> loss 1.2091819047927856\n",
            "epoch: 781 --> loss 1.2068309783935547\n",
            "epoch: 791 --> loss 1.204624891281128\n",
            "epoch: 801 --> loss 1.2025595903396606\n",
            "epoch: 811 --> loss 1.2006371021270752\n",
            "epoch: 821 --> loss 1.1988197565078735\n",
            "epoch: 831 --> loss 1.1971372365951538\n",
            "epoch: 841 --> loss 1.1955534219741821\n",
            "epoch: 851 --> loss 1.1940771341323853\n",
            "epoch: 861 --> loss 1.1926932334899902\n",
            "epoch: 871 --> loss 1.191399097442627\n",
            "epoch: 881 --> loss 1.1901905536651611\n",
            "epoch: 891 --> loss 1.1890610456466675\n",
            "epoch: 901 --> loss 1.1880011558532715\n",
            "epoch: 911 --> loss 1.1870088577270508\n",
            "epoch: 921 --> loss 1.1860815286636353\n",
            "epoch: 931 --> loss 1.185215950012207\n",
            "epoch: 941 --> loss 1.1844017505645752\n",
            "epoch: 951 --> loss 1.1836473941802979\n",
            "epoch: 961 --> loss 1.1829283237457275\n",
            "epoch: 971 --> loss 1.1822668313980103\n",
            "epoch: 981 --> loss 1.1816439628601074\n",
            "epoch: 991 --> loss 1.1810662746429443\n"
          ]
        }
      ],
      "source": [
        "# model 2\n",
        "LEARNING_RATE = 0.01\n",
        "EPOCHS = 1000\n",
        "LOG_INTERVAL= 10\n",
        "\n",
        "# Use PyTorch's nn.Linear to create the model for your task.\n",
        "# Based on your understanding of the problem at hand, decide how you will initialize the nn.Linear layer.\n",
        "# Take into consideration the number of input features, the number of output features, and whether or not to include a bias term.\n",
        "model = nn.Linear(1, 1, bias = True)\n",
        "\n",
        "# Initialize the weights of the model using a normal distribution with mean = 0 and std = 0.01\n",
        "# Hint: To initialize the model's weights, you can use the torch.nn.init.normal_() function.\n",
        "# You will need to provide the 'model.weight' tensor and specify values for the 'mean' and 'std' arguments.\n",
        "nn.init.normal_(model.weight, mean = 0, std = 0.01)\n",
        "\n",
        "# Initialize the model's bias terms to zero\n",
        "# Hint: To set the model's bias terms to zero, consider using the nn.init.zeros_() function.\n",
        "# You'll need to supply 'model.bias' as an argument.\n",
        "nn.init.zeros_(model.bias)\n",
        "\n",
        "# Create an SGD (Stochastic Gradient Descent) optimizer using the model's parameters and a predefined learning rate\n",
        "optimizer = optim.SGD(model.parameters(), LEARNING_RATE)\n",
        "\n",
        "\n",
        "# Start the training process for the model with specified parameters and settings\n",
        "# Note that we are passing x as an input for this part\n",
        "train(EPOCHS, x, y, loss_function, LOG_INTERVAL, model, optimizer)"
      ],
      "id": "ELy7vX8Fm7Up"
    },
    {
      "cell_type": "code",
      "execution_count": 20,
      "metadata": {
        "id": "hrd64AY7m7Up",
        "colab": {
          "base_uri": "https://localhost:8080/"
        },
        "outputId": "16477169-1910-46bb-cdcc-dda3fec793bf"
      },
      "outputs": [
        {
          "output_type": "stream",
          "name": "stdout",
          "text": [
            " Weights tensor([[41.9377]]), \n",
            "Bias: tensor([0.7466])\n"
          ]
        }
      ],
      "source": [
        "print(f' Weights {model.weight.data}, \\nBias: {model.bias.data}')"
      ],
      "id": "hrd64AY7m7Up"
    },
    {
      "cell_type": "markdown",
      "metadata": {
        "id": "wE91_Rg8nmSu"
      },
      "source": [
        "## <font color = 'indianred'> **Part 3**\n",
        "-  <font color = 'indianred'>**Part 3 is similar to part 2, the only difference is that model has no bias term now.**</font>\n",
        "- **You will see that we are now running the model for only ten epochs and will get similar results**"
      ],
      "id": "wE91_Rg8nmSu"
    },
    {
      "cell_type": "code",
      "execution_count": 21,
      "metadata": {
        "id": "-3QSWacbnmSu",
        "colab": {
          "base_uri": "https://localhost:8080/"
        },
        "outputId": "d77c39ff-5b31-4250-fb12-ea12037d1007"
      },
      "outputs": [
        {
          "output_type": "stream",
          "name": "stdout",
          "text": [
            "epoch: 1 --> loss 57950.65625\n",
            "epoch: 2 --> loss 6894.28662109375\n",
            "epoch: 3 --> loss 821.1486206054688\n",
            "epoch: 4 --> loss 98.75077819824219\n",
            "epoch: 5 --> loss 12.821939468383789\n",
            "epoch: 6 --> loss 2.6008033752441406\n",
            "epoch: 7 --> loss 1.3849833011627197\n",
            "epoch: 8 --> loss 1.240365743637085\n",
            "epoch: 9 --> loss 1.2231651544570923\n",
            "epoch: 10 --> loss 1.2211220264434814\n"
          ]
        }
      ],
      "source": [
        "# model 3\n",
        "LEARNING_RATE = 0.01\n",
        "EPOCHS = 10\n",
        "LOG_INTERVAL= 1\n",
        "\n",
        "# Use PyTorch's nn.Linear to create the model for your task.\n",
        "# Based on your understanding of the problem at hand, decide how you will initialize the nn.Linear layer.\n",
        "# Take into consideration the number of input features, the number of output features, and whether or not to include a bias term.\n",
        "model = nn.Linear(1, 1, bias = False)\n",
        "\n",
        "# Initialize the weights of the model using a normal distribution with mean = 0 and std = 0.01\n",
        "# Hint: To initialize the model's weights, you can use the nn.init.normal_() function.\n",
        "# You will need to provide the 'model.weight' tensor and specify values for the 'mean' and 'std' arguments.\n",
        "nn.init.normal_(model.weight, mean = 0, std = 0.01)\n",
        "\n",
        "# We do not need to initilaize the bias term as there is no bias term in this model\n",
        "\n",
        "# Create an SGD (Stochastic Gradient Descent) optimizer using the model's parameters and a predefined learning rate\n",
        "optimizer = optim.SGD(model.parameters(), LEARNING_RATE)\n",
        "\n",
        "\n",
        "# Start the training process for the model with specified parameters and settings\n",
        "# Note that we are passing x as an input for this part\n",
        "train(EPOCHS, x, y, loss_function, LOG_INTERVAL, model, optimizer)\n"
      ],
      "id": "-3QSWacbnmSu"
    },
    {
      "cell_type": "code",
      "execution_count": 22,
      "metadata": {
        "id": "s7a2F_GZnmSu",
        "colab": {
          "base_uri": "https://localhost:8080/"
        },
        "outputId": "f3123e3a-ff92-4016-edc1-f7bab58502b2"
      },
      "outputs": [
        {
          "output_type": "stream",
          "name": "stdout",
          "text": [
            " Weights tensor([[42.0557]])\n"
          ]
        }
      ],
      "source": [
        "print(f' Weights {model.weight.data}')"
      ],
      "id": "s7a2F_GZnmSu"
    },
    {
      "cell_type": "markdown",
      "source": [
        "# <font color = 'indianred'>**Task 3 - MultiClass Classification using Mini Batch Gradient Descent with PyTorch- 5 Points**\n",
        "\n",
        "- You will implement only training loop (no splitting of data in to training/validation).\n",
        "- We will use minibatch Gradient Descent - Hence we will have two for loops in his case.\n",
        "- You should use  Pytorch's nn.module and functions."
      ],
      "metadata": {
        "id": "wxiVbbqL8GIa"
      },
      "id": "wxiVbbqL8GIa"
    },
    {
      "cell_type": "markdown",
      "metadata": {
        "id": "o6jh4FfFPgi_"
      },
      "source": [
        "## <font color = 'indianred'>**Data**"
      ],
      "id": "o6jh4FfFPgi_"
    },
    {
      "cell_type": "code",
      "execution_count": 106,
      "metadata": {
        "execution": {
          "iopub.execute_input": "2022-10-26T19:14:42.405079Z",
          "iopub.status.busy": "2022-10-26T19:14:42.404795Z",
          "iopub.status.idle": "2022-10-26T19:14:42.725729Z",
          "shell.execute_reply": "2022-10-26T19:14:42.725116Z",
          "shell.execute_reply.started": "2022-10-26T19:14:42.405000Z"
        },
        "id": "1pN2psBZPquN"
      },
      "outputs": [],
      "source": [
        "# Import the make_classification function from the sklearn.datasets module\n",
        "# This function is used to generate a synthetic dataset for classification tasks.\n",
        "from sklearn.datasets import make_classification\n",
        "\n",
        "# Import the StandardScaler class from the sklearn.preprocessing module\n",
        "# StandardScaler is used to standardize the features by removing the mean and scaling to unit variance.\n",
        "from sklearn.preprocessing import StandardScaler\n"
      ],
      "id": "1pN2psBZPquN"
    },
    {
      "cell_type": "code",
      "execution_count": 107,
      "metadata": {
        "id": "dHjBoauBQ809"
      },
      "outputs": [],
      "source": [
        "# Import the main PyTorch library, which provides the essential building blocks for constructing neural networks.\n",
        "import torch\n",
        "\n",
        "# Import the 'optim' module from PyTorch for various optimization algorithms like SGD, Adam, etc.\n",
        "import torch.optim as optim\n",
        "\n",
        "# Import the 'nn' module from PyTorch, which contains pre-defined layers, loss functions, etc., for neural networks.\n",
        "import torch.nn as nn\n",
        "\n",
        "# Import the 'functional' module from PyTorch; incorrect import here, it should be 'import torch.nn.functional as F'\n",
        "# This module contains functional forms of layers, loss functions, and other operations.\n",
        "import torch.nn.functional as F  # Should be 'import torch.nn.functional as F'\n",
        "\n",
        "# Import DataLoader and Dataset classes from PyTorch's utility library.\n",
        "# DataLoader helps with batching, shuffling, and loading data in parallel.\n",
        "# Dataset provides an abstract interface for easier data manipulation.\n",
        "from torch.utils.data import DataLoader, Dataset\n"
      ],
      "id": "dHjBoauBQ809"
    },
    {
      "cell_type": "code",
      "execution_count": 108,
      "metadata": {
        "id": "BClv_rE78pCd"
      },
      "outputs": [],
      "source": [
        "# Generate a synthetic dataset for classification using make_classification function.\n",
        "# Parameters:\n",
        "# - n_samples=1000: The total number of samples in the generated dataset.\n",
        "# - n_features=5: The total number of features for each sample.\n",
        "# - n_classes=3: The number of classes for the classification task.\n",
        "# - n_informative=4: The number of informative features, i.e., features that are actually useful for classification.\n",
        "# - n_redundant=1: The number of redundant features, i.e., features that can be linearly derived from informative features.\n",
        "# - random_state=0: The seed for the random number generator to ensure reproducibility.\n",
        "\n",
        "X, y = make_classification(n_samples=1000, n_features=5, n_classes=3, n_informative=4, n_redundant=1, random_state=0)\n"
      ],
      "id": "BClv_rE78pCd"
    },
    {
      "cell_type": "markdown",
      "source": [
        "\n",
        "In this example, you're using `make_classification` to <font color = 'indianred'>**generate a dataset with 1,000 samples, 5 features per sample, and 3 classes for the classification problem**.</font> Of the 5 features, 4 are informative (useful for classification), and 1 is redundant (can be derived from the informative features). The `random_state` parameter ensures that the data generation is reproducible."
      ],
      "metadata": {
        "id": "SxLvScaHKueM"
      },
      "id": "SxLvScaHKueM"
    },
    {
      "cell_type": "code",
      "execution_count": 109,
      "metadata": {
        "id": "pl3r5LUd8pCe"
      },
      "outputs": [],
      "source": [
        "# Initialize the StandardScaler object from the sklearn.preprocessing module.\n",
        "# This will be used to standardize the features of the dataset.\n",
        "preprocessor = StandardScaler()\n",
        "\n",
        "# Fit the StandardScaler on the dataset (X) and then transform it.\n",
        "# The fit_transform() method computes the mean and standard deviation of each feature,\n",
        "# and then standardizes the features by subtracting the mean and dividing by the standard deviation.\n",
        "X = preprocessor.fit_transform(X)\n"
      ],
      "id": "pl3r5LUd8pCe"
    },
    {
      "cell_type": "code",
      "execution_count": 110,
      "metadata": {
        "id": "IKQM7PcKVDkK",
        "colab": {
          "base_uri": "https://localhost:8080/"
        },
        "outputId": "cdc5859b-b49c-4107-a47c-b70dd402e812"
      },
      "outputs": [
        {
          "output_type": "stream",
          "name": "stdout",
          "text": [
            "(1000, 5) (1000,)\n"
          ]
        }
      ],
      "source": [
        "print(X.shape, y.shape)"
      ],
      "id": "IKQM7PcKVDkK"
    },
    {
      "cell_type": "code",
      "execution_count": 111,
      "metadata": {
        "id": "YhLylG90VHG5",
        "colab": {
          "base_uri": "https://localhost:8080/"
        },
        "outputId": "bc3acb04-4209-4609-8338-91578194c046"
      },
      "outputs": [
        {
          "output_type": "execute_result",
          "data": {
            "text/plain": [
              "array([[-0.39443436, -0.78033571, -0.25005511,  0.09118536, -0.5690698 ],\n",
              "       [ 0.64284479, -0.95837057,  0.83598996, -0.08438568,  0.50539358],\n",
              "       [ 0.99102498,  0.8580679 ,  0.78786062, -0.9114329 ,  1.62615938],\n",
              "       [-0.96923966,  0.86168226, -1.31837608, -1.22844863, -0.07591589],\n",
              "       [ 0.96021518,  0.99206623,  1.0026402 , -0.25339161,  1.18831784]])"
            ]
          },
          "metadata": {},
          "execution_count": 111
        }
      ],
      "source": [
        "X[0:5]"
      ],
      "id": "YhLylG90VHG5"
    },
    {
      "cell_type": "code",
      "execution_count": 112,
      "metadata": {
        "id": "a8ZlJ168VLQL",
        "colab": {
          "base_uri": "https://localhost:8080/"
        },
        "outputId": "9fdebaf4-a62e-4c5c-8756-b2e96cc67d7c"
      },
      "outputs": [
        {
          "output_type": "stream",
          "name": "stdout",
          "text": [
            "[2 0 1 2 1 1 0 2 0 0]\n"
          ]
        }
      ],
      "source": [
        "print(y[0:10])"
      ],
      "id": "a8ZlJ168VLQL"
    },
    {
      "cell_type": "markdown",
      "metadata": {
        "id": "tUYUlTaEQW2w"
      },
      "source": [
        "## <font color = 'indianred'>**Dataset and Data Loaders**"
      ],
      "id": "tUYUlTaEQW2w"
    },
    {
      "cell_type": "code",
      "execution_count": 127,
      "metadata": {
        "id": "x3kFQdLC8pCf"
      },
      "outputs": [],
      "source": [
        "# Convert the numpy arrays X and y to PyTorch Tensors.\n",
        "# For X, we create a floating-point tensor since most PyTorch models expect float inputs for features.\n",
        "# This is a  multiclass classification problem.\n",
        "\n",
        "# ================================\n",
        "# IMPORTANT: # Consider what cost function you will use and whether it expects the label tensor (y)  to be float or long type.\n",
        "# ================================\n",
        "\n",
        "x_tensor = torch.tensor(X, dtype=torch.float32)\n",
        "y_tensor = torch.tensor(y, dtype=torch.long)\n"
      ],
      "id": "x3kFQdLC8pCf"
    },
    {
      "cell_type": "code",
      "source": [
        "# Define a custom PyTorch Dataset class for handling our data\n",
        "class MyDataset(Dataset):\n",
        "    # Constructor: Initialize the dataset with features and labels\n",
        "    def __init__(self, X, y):\n",
        "        self.features = X\n",
        "        self.labels = y\n",
        "\n",
        "    # Method to return the length of the dataset\n",
        "    def __len__(self):\n",
        "        return self.labels.shape[0]\n",
        "\n",
        "    # Method to get a data point by index\n",
        "    def __getitem__(self, index):\n",
        "        x = self.features[index]\n",
        "        y = self.labels[index]\n",
        "        return x, y\n",
        "\n",
        "# Enables the data to be passed to the dataloader to create batches"
      ],
      "metadata": {
        "id": "IqZiLscT-LvT"
      },
      "id": "IqZiLscT-LvT",
      "execution_count": 128,
      "outputs": []
    },
    {
      "cell_type": "code",
      "source": [
        "# Create an instance of the custom MyDataset class, passing in the feature and label tensors.\n",
        "# This will allow the data to be used with PyTorch's DataLoader for efficient batch processing.\n",
        "train_dataset = MyDataset(x_tensor, y_tensor)\n"
      ],
      "metadata": {
        "id": "70FnT-L6-P96"
      },
      "id": "70FnT-L6-P96",
      "execution_count": 129,
      "outputs": []
    },
    {
      "cell_type": "code",
      "source": [
        "# Access the first element (feature-label pair) from the train_dataset using indexing.\n",
        "# The __getitem__ method of MyDataset class will be called to return this element.\n",
        "train_dataset[0]\n"
      ],
      "metadata": {
        "id": "KwjHPEoZ-Sfb",
        "colab": {
          "base_uri": "https://localhost:8080/"
        },
        "outputId": "2a481bca-6984-4199-9281-99d8b3b26005"
      },
      "id": "KwjHPEoZ-Sfb",
      "execution_count": 130,
      "outputs": [
        {
          "output_type": "execute_result",
          "data": {
            "text/plain": [
              "(tensor([-0.3944, -0.7803, -0.2501,  0.0912, -0.5691]), tensor(2))"
            ]
          },
          "metadata": {},
          "execution_count": 130
        }
      ]
    },
    {
      "cell_type": "code",
      "source": [
        "DataLoader?"
      ],
      "metadata": {
        "id": "K_aLFG7ErOFZ"
      },
      "id": "K_aLFG7ErOFZ",
      "execution_count": 117,
      "outputs": []
    },
    {
      "cell_type": "code",
      "source": [
        "# Create Data loader from Dataset\n",
        "# Use a batch size of 16\n",
        "# Use shuffle = True\n",
        "train_loader = DataLoader(train_dataset, batch_size= 16, shuffle = True)"
      ],
      "metadata": {
        "id": "lxMxiAKn-FP8"
      },
      "id": "lxMxiAKn-FP8",
      "execution_count": 132,
      "outputs": []
    },
    {
      "cell_type": "code",
      "source": [
        "len(train_loader)"
      ],
      "metadata": {
        "colab": {
          "base_uri": "https://localhost:8080/"
        },
        "id": "JW8wJR7HwrjR",
        "outputId": "3c85eda7-e05e-45b6-8dfb-12a2d8c48c32"
      },
      "id": "JW8wJR7HwrjR",
      "execution_count": 133,
      "outputs": [
        {
          "output_type": "execute_result",
          "data": {
            "text/plain": [
              "63"
            ]
          },
          "metadata": {},
          "execution_count": 133
        }
      ]
    },
    {
      "cell_type": "markdown",
      "metadata": {
        "id": "y3HFDKy1RLMj"
      },
      "source": [
        "## <font color = 'indianred'>**Model**"
      ],
      "id": "y3HFDKy1RLMj"
    },
    {
      "cell_type": "code",
      "execution_count": 169,
      "metadata": {
        "id": "mtFhXfXpROP3"
      },
      "outputs": [],
      "source": [
        "# Student Task: Define your neural network model for multi-class classification.\n",
        "# Think through what layers you should add. Note: Your task is to create a model that uses Softmax for\n",
        "# classification but doesn't include any hidden layers.\n",
        "# You can use nn.Linear or nn.Sequential for this task\n",
        "model = nn.Linear(5, 3)"
      ],
      "id": "mtFhXfXpROP3"
    },
    {
      "cell_type": "markdown",
      "source": [
        "## <font color = 'indianred'>**Loss Function**"
      ],
      "metadata": {
        "id": "bDkkl8M2c7xo"
      },
      "id": "bDkkl8M2c7xo"
    },
    {
      "cell_type": "code",
      "execution_count": 170,
      "metadata": {
        "id": "ZyxG9cEIRdxD"
      },
      "outputs": [],
      "source": [
        "# Student Task: Specify the loss function for your model.\n",
        "# Consider the architecture of your model, especially the last layer, when choosing the loss function.\n",
        "# Reminder: The last layer in the previous step should guide your choice for an appropriate loss function for multi-class classification.\n",
        "\n",
        "loss_function = nn.CrossEntropyLoss()"
      ],
      "id": "ZyxG9cEIRdxD"
    },
    {
      "cell_type": "markdown",
      "metadata": {
        "id": "Z0ETm1C0apXS"
      },
      "source": [
        "## <font color = 'indianred'>**Initialization**\n",
        "\n",
        "Create a function to initilaize weights.\n",
        "- Initialize weights using normal distribution with mean = 0 and std = 0.05\n",
        "- Initilaize the bias term with zeros"
      ],
      "id": "Z0ETm1C0apXS"
    },
    {
      "cell_type": "code",
      "execution_count": 171,
      "metadata": {
        "id": "P7_uk-Wya5w-"
      },
      "outputs": [],
      "source": [
        "# Function to initialize the weights and biases of a neural network layer.\n",
        "# This function specifically targets layers of type nn.Linear.\n",
        "def init_weights(layer):\n",
        "  # Check if the layer is of the type nn.Linear.\n",
        "  if type(layer) == nn.Linear:\n",
        "    # Initialize the weights with a normal distribution, centered at 0 with a standard deviation of 0.05.\n",
        "    torch.nn.init.normal_(layer.weight, mean = 0, std = 0.05)\n",
        "    # Initialize the bias terms to zero.\n",
        "    torch.nn.init.zeros_(layer.bias)\n"
      ],
      "id": "P7_uk-Wya5w-"
    },
    {
      "cell_type": "markdown",
      "metadata": {
        "id": "_s37DSbzSkWF"
      },
      "source": [
        "## <font color = 'indianred'>**Training Loop**"
      ],
      "id": "_s37DSbzSkWF"
    },
    {
      "cell_type": "markdown",
      "metadata": {
        "id": "0m8CNyv7Syxx"
      },
      "source": [
        "**Model Training** involves five steps:\n",
        "\n",
        "- Step 0: Randomly initialize parameters / weights\n",
        "- Step 1: Compute model's predictions - forward pass\n",
        "- Step 2: Compute loss\n",
        "- Step 3: Compute the gradients\n",
        "- Step 4: Update the parameters\n",
        "- Step 5: Repeat steps 1 - 4\n",
        "\n",
        "Model training is repeating this process over and over, for many **epochs**.\n",
        "\n",
        "We will specify number of ***epochs*** and during each epoch we will iterate over the complete dataset and will keep on updating the parameters.\n",
        "\n",
        "***Learning rate*** and ***epochs*** are known as hyperparameters. We have to adjust the values of these two based on validation dataset.\n",
        "\n",
        "We will now create functions for step 1 to 4."
      ],
      "id": "0m8CNyv7Syxx"
    },
    {
      "cell_type": "code",
      "execution_count": 172,
      "metadata": {
        "id": "zRFZkBl-TGPC"
      },
      "outputs": [],
      "source": [
        "# Function to train a neural network model.\n",
        "# Arguments include the number of epochs, loss function, learning rate, model architecture, and optimizer.\n",
        "\n",
        "def train(epochs, loss_function, learning_rate, model, optimizer):\n",
        "\n",
        "  # Loop through each epoch\n",
        "  for epoch in range(epochs):\n",
        "\n",
        "    # Initialize variables to hold aggregated training loss and correct prediction count for each epoch\n",
        "    running_train_loss = 0\n",
        "    running_train_correct = 0\n",
        "\n",
        "    # Loop through each batch in the training dataset using train_loader\n",
        "    for x, y in train_loader:\n",
        "\n",
        "      # Move input and target tensors to the device (GPU or CPU)\n",
        "      x = x.to(device)\n",
        "      targets = y.to(device)\n",
        "\n",
        "      # Step 1: Forward Pass: Compute model's predictions\n",
        "      # Multi-class[3, -2, 5]. Use argmax function to obtain the index where the\n",
        "      # maximum values is occurring (index 2 in this case will be the class label)\n",
        "      output = model(x)\n",
        "\n",
        "      # Step 2: Compute loss\n",
        "      loss = loss_function(output, targets)\n",
        "\n",
        "      # Step 3: Backward pass - Compute the gradients\n",
        "      # Backward pass: Compute gradients based on the loss\n",
        "      loss.backward()\n",
        "\n",
        "      # Zero out gradients from the previous iteration\n",
        "      optimizer.zero_grad()\n",
        "\n",
        "      # Step 4: Update the parameters\n",
        "      optimizer.step()\n",
        "\n",
        "      # Accumulate the loss for the batch\n",
        "      running_train_loss += loss.item()\n",
        "\n",
        "      # Evaluate model's performance without backpropagation for efficiency\n",
        "      # `with torch.no_grad()` temporarily disables autograd, improving speed and avoiding side effects during evaluation.\n",
        "      with torch.no_grad():\n",
        "          y_pred = output.argmax(dim=1)\n",
        "          correct = (y_pred == targets).sum().item()\n",
        "          running_train_correct += correct  # Update the cumulative count of correct predictions for the current epoch\n",
        "\n",
        "\n",
        "    # Compute average training loss and accuracy for the epoch\n",
        "    train_loss = running_train_loss / len(train_loader)\n",
        "    train_acc = running_train_correct / len(train_loader)\n",
        "\n",
        "    # Display training loss and accuracy metrics for the current epoch\n",
        "    print(f'Epoch : {epoch + 1} / {epochs}')\n",
        "    print(f'Train Loss: {train_loss:.4f} | Train Accuracy: {train_acc * 100:.4f}%')\n",
        "\n"
      ],
      "id": "zRFZkBl-TGPC"
    },
    {
      "cell_type": "code",
      "source": [
        "batch_size = x.size(0)  # or x.shape[0]\n",
        "print(\"Batch size of x:\", batch_size)"
      ],
      "metadata": {
        "colab": {
          "base_uri": "https://localhost:8080/"
        },
        "id": "gtd9Aeyn7tSS",
        "outputId": "834eee16-8701-43d1-8043-d4e939f09f1c"
      },
      "id": "gtd9Aeyn7tSS",
      "execution_count": 173,
      "outputs": [
        {
          "output_type": "stream",
          "name": "stdout",
          "text": [
            "Batch size of x: 1\n"
          ]
        }
      ]
    },
    {
      "cell_type": "code",
      "source": [
        "# Fix the random seed to ensure reproducibility across runs\n",
        "torch.manual_seed(100)\n",
        "\n",
        "# Define the total number of epochs for which the model will be trained\n",
        "epochs = 5\n",
        "\n",
        "# Detect if a GPU is available and use it; otherwise, use CPU\n",
        "device = torch.device('cuda:0' if torch.cuda.is_available() else 'cpu')\n",
        "print(device)  # Output the device being used\n",
        "\n",
        "# Define the learning rate for optimization; consider its impact on model performance\n",
        "learning_rate = 1\n",
        "\n",
        "# Student Task: Configure the optimizer for model training.\n",
        "# Here, we're using Stochastic Gradient Descent (SGD). Think through what parameters are needed.\n",
        "# Reminder: Utilize the learning rate defined above when setting up your optimizer.\n",
        "optimizer = torch.optim.SGD(model.parameters(), lr = learning_rate)\n",
        "\n",
        "# Relocate the model to the appropriate compute device (GPU or CPU)\n",
        "model.to(device)\n",
        "\n",
        "# Apply custom weight initialization; this can affect the model's learning trajectory\n",
        "# The `apply` function recursively applies a function to each submodule in a PyTorch model.\n",
        "# In the given context, it's used to apply the `init_weights` function to initialize the weights of all layers in the model.\n",
        "# The benefit is that it provides a convenient way to systematically apply custom weight initialization across complex models,\n",
        "# potentially improving model convergence and performance.\n",
        "model.apply(init_weights)\n",
        "\n",
        "# Kick off the training process using the specified settings\n",
        "train(epochs, loss_function, learning_rate, model, optimizer)"
      ],
      "metadata": {
        "id": "gkb82Lb6DQXp",
        "colab": {
          "base_uri": "https://localhost:8080/"
        },
        "outputId": "f892733a-4300-44bd-ec65-9aef45428e18"
      },
      "id": "gkb82Lb6DQXp",
      "execution_count": 174,
      "outputs": [
        {
          "output_type": "stream",
          "name": "stdout",
          "text": [
            "cuda:0\n",
            "Epoch : 1 / 5\n",
            "Train Loss: 1.1201 | Train Accuracy: 387.3016%\n",
            "Epoch : 2 / 5\n",
            "Train Loss: 1.1203 | Train Accuracy: 387.3016%\n",
            "Epoch : 3 / 5\n",
            "Train Loss: 1.1202 | Train Accuracy: 387.3016%\n",
            "Epoch : 4 / 5\n",
            "Train Loss: 1.1204 | Train Accuracy: 387.3016%\n",
            "Epoch : 5 / 5\n",
            "Train Loss: 1.1202 | Train Accuracy: 387.3016%\n"
          ]
        }
      ]
    },
    {
      "cell_type": "code",
      "execution_count": 175,
      "metadata": {
        "id": "6V3o_7WCYWac",
        "colab": {
          "base_uri": "https://localhost:8080/"
        },
        "outputId": "d9a805cb-8989-4a5a-b1e2-99f3ac97556d"
      },
      "outputs": [
        {
          "output_type": "stream",
          "name": "stdout",
          "text": [
            "weight tensor([[ 0.0717, -0.0749, -0.0405, -0.0589, -0.1324],\n",
            "        [-0.0012, -0.0688,  0.0578, -0.0546, -0.0191],\n",
            "        [-0.0173,  0.0162,  0.0774,  0.0915, -0.0211]], device='cuda:0')\n",
            "bias tensor([0., 0., 0.], device='cuda:0')\n"
          ]
        }
      ],
      "source": [
        "# Output the learned parameters (weights and biases) of the model after training\n",
        "for name, param in model.named_parameters():\n",
        "  # Print the name and the values of each parameter\n",
        "  print(name, param.data)\n"
      ],
      "id": "6V3o_7WCYWac"
    },
    {
      "cell_type": "markdown",
      "source": [
        "# <font color = 'indianred'>**Task 4 - MultiLabel Classification using Mini Batch Gradient Descent with PyTorch- 5 Points**\n",
        "\n",
        "- You will implement only training loop (no splitting of data in to training/validation).\n",
        "- We will use minibatch Gradient Descent - Hence we will have two for loops in his case.\n",
        "- You should use  Pytorch's nn.module and functions."
      ],
      "metadata": {
        "id": "UArlfemmD0Wk"
      },
      "id": "UArlfemmD0Wk"
    },
    {
      "cell_type": "markdown",
      "metadata": {
        "id": "G7Dypy43D0Wk"
      },
      "source": [
        "## <font color = 'indianred'>**Data**"
      ],
      "id": "G7Dypy43D0Wk"
    },
    {
      "cell_type": "code",
      "execution_count": 237,
      "metadata": {
        "execution": {
          "iopub.execute_input": "2022-10-26T19:14:42.405079Z",
          "iopub.status.busy": "2022-10-26T19:14:42.404795Z",
          "iopub.status.idle": "2022-10-26T19:14:42.725729Z",
          "shell.execute_reply": "2022-10-26T19:14:42.725116Z",
          "shell.execute_reply.started": "2022-10-26T19:14:42.405000Z"
        },
        "id": "iFG2Z-vXD0Wk"
      },
      "outputs": [],
      "source": [
        "# Import the function to generate a synthetic multilabel classification dataset\n",
        "from sklearn.datasets import make_multilabel_classification\n",
        "\n",
        "# Import the StandardScaler for feature normalization\n",
        "from sklearn.preprocessing import StandardScaler\n"
      ],
      "id": "iFG2Z-vXD0Wk"
    },
    {
      "cell_type": "code",
      "execution_count": 62,
      "metadata": {
        "id": "6BlPfRboD0Wl"
      },
      "outputs": [],
      "source": [
        "# Import PyTorch library for tensor computation and neural network modules\n",
        "import torch\n",
        "\n",
        "# Import PyTorch's optimization algorithms package\n",
        "import torch.optim as optim\n",
        "\n",
        "# Import PyTorch's neural network module for defining layers and models\n",
        "import torch.nn as nn\n",
        "\n",
        "# Import PyTorch's functional API for stateless operations\n",
        "import torch.functional as F\n",
        "\n",
        "# Import DataLoader, TensorDataset, and Dataset for data loading and manipulation\n",
        "from torch.utils.data import DataLoader, TensorDataset, Dataset\n"
      ],
      "id": "6BlPfRboD0Wl"
    },
    {
      "cell_type": "code",
      "execution_count": 63,
      "metadata": {
        "id": "V2QhwfmoD0Wl"
      },
      "outputs": [],
      "source": [
        "# Generate a synthetic multilabel classification dataset\n",
        "# n_samples: Number of samples in the dataset\n",
        "# n_features: Number of feature variables\n",
        "# n_classes: Number of distinct labels (or classes)\n",
        "# n_labels: Average number of labels per instance\n",
        "# random_state: Seed for reproducibility\n",
        "X, y = make_multilabel_classification(n_samples=1000, n_features=5, n_classes=3, n_labels=2, random_state=0)\n"
      ],
      "id": "V2QhwfmoD0Wl"
    },
    {
      "cell_type": "code",
      "execution_count": 64,
      "metadata": {
        "id": "GMhD31WlD0Wl"
      },
      "outputs": [],
      "source": [
        "# Initialize the StandardScaler for feature normalization\n",
        "preprocessor = StandardScaler()\n",
        "\n",
        "# Fit the preprocessor to the data and transform the features for zero mean and unit variance\n",
        "X = preprocessor.fit_transform(X)"
      ],
      "id": "GMhD31WlD0Wl"
    },
    {
      "cell_type": "code",
      "execution_count": 65,
      "metadata": {
        "id": "TolNK76YD0Wl",
        "colab": {
          "base_uri": "https://localhost:8080/"
        },
        "outputId": "cbe60a59-c28c-4a1e-deb5-67bd2eab7ef4"
      },
      "outputs": [
        {
          "output_type": "stream",
          "name": "stdout",
          "text": [
            "(1000, 5) (1000, 3)\n"
          ]
        }
      ],
      "source": [
        "# Print the shape of the feature matrix X and the label matrix y\n",
        "# Students: Pay attention to these shapes as they will guide you in defining your neural network model\n",
        "print(X.shape, y.shape)"
      ],
      "id": "TolNK76YD0Wl"
    },
    {
      "cell_type": "code",
      "execution_count": 66,
      "metadata": {
        "id": "MgD0GuF4D0Wl",
        "colab": {
          "base_uri": "https://localhost:8080/"
        },
        "outputId": "0a8f6404-9b27-4dd8-94ff-b74794ecbe94"
      },
      "outputs": [
        {
          "output_type": "execute_result",
          "data": {
            "text/plain": [
              "array([[ 1.65506353,  0.2101857 ,  0.51570947, -2.00177184,  0.40001786],\n",
              "       [-0.02349989, -0.51376047,  2.34771468,  0.78787635, -1.04334554],\n",
              "       [ 1.09554239,  0.93413188, -0.09495894, -0.00916599, -0.01237169],\n",
              "       [-0.58302103,  1.17544727,  0.21037527, -0.80620833,  0.8124074 ],\n",
              "       [ 1.09554239,  0.69281649, -1.92696415,  1.18639752, -1.24954031]])"
            ]
          },
          "metadata": {},
          "execution_count": 66
        }
      ],
      "source": [
        "X[0:5]"
      ],
      "id": "MgD0GuF4D0Wl"
    },
    {
      "cell_type": "code",
      "execution_count": 67,
      "metadata": {
        "id": "qCki6N5XD0Wl",
        "colab": {
          "base_uri": "https://localhost:8080/"
        },
        "outputId": "13805a62-f97c-41db-c25c-75dc1f8266ea"
      },
      "outputs": [
        {
          "output_type": "stream",
          "name": "stdout",
          "text": [
            "[[0 0 1]\n",
            " [1 0 0]\n",
            " [1 1 1]\n",
            " [0 1 1]\n",
            " [1 1 0]\n",
            " [0 1 0]\n",
            " [1 1 1]\n",
            " [1 0 1]\n",
            " [1 1 1]\n",
            " [1 1 0]]\n"
          ]
        }
      ],
      "source": [
        "# ================================\n",
        "# IMPORTANT: # NOTE: The y in this case is one hot encoded.\n",
        "# This is different from Multiclass Classification.\n",
        "# The loss function we use for multiclass classification handles this internally\n",
        "# For multilabel case we have to provide y in this format\n",
        "# ================================\n",
        "\n",
        "print(y[0:10])"
      ],
      "id": "qCki6N5XD0Wl"
    },
    {
      "cell_type": "markdown",
      "metadata": {
        "id": "xuU4DdG4D0Wl"
      },
      "source": [
        "## <font color = 'indianred'>**Dataset and Data Loaders**"
      ],
      "id": "xuU4DdG4D0Wl"
    },
    {
      "cell_type": "code",
      "execution_count": 114,
      "metadata": {
        "id": "3o-XzO8ID0Wm"
      },
      "outputs": [],
      "source": [
        "# Student Task: Create Tensors from the numpy arrays.\n",
        "# Earlier, we focused on multiclass classification; now, we are dealing with multilabel classification.\n",
        "\n",
        "# ================================\n",
        "# IMPORTANT: # Consider what cost function you will use for multilabel classification and whether it expects the label tensor (y) to be float or long type.\n",
        "# ================================\n",
        "x_tensor = torch.tensor(X, dtype = torch.float32)\n",
        "y_tensor = torch.tensor(y, dtype = torch.float32)\n"
      ],
      "id": "3o-XzO8ID0Wm"
    },
    {
      "cell_type": "code",
      "source": [
        "# Define a custom PyTorch Dataset class for handling our data\n",
        "class MyDataset(Dataset):\n",
        "    # Constructor: Initialize the dataset with features and labels\n",
        "    def __init__(self, X, y):\n",
        "        self.features = X\n",
        "        self.labels = y\n",
        "\n",
        "    # Method to return the length of the dataset\n",
        "    def __len__(self):\n",
        "        return self.labels.shape[0]\n",
        "\n",
        "    # Method to get a data point by index\n",
        "    def __getitem__(self, index):\n",
        "        x = self.features[index]\n",
        "        y = self.labels[index]\n",
        "        return x, y\n"
      ],
      "metadata": {
        "id": "YhIDfdgQD0Wm"
      },
      "execution_count": 115,
      "outputs": [],
      "id": "YhIDfdgQD0Wm"
    },
    {
      "cell_type": "code",
      "source": [
        "# Initialize an instance of the custom MyDataset class\n",
        "# This will be our training dataset, holding our features and labels as PyTorch tensors\n",
        "train_dataset = MyDataset(x_tensor, y_tensor)\n"
      ],
      "metadata": {
        "id": "RSG9tzzND0Wm"
      },
      "execution_count": 116,
      "outputs": [],
      "id": "RSG9tzzND0Wm"
    },
    {
      "cell_type": "code",
      "source": [
        "# Access the first element (feature-label pair) from the train_dataset using indexing.\n",
        "# The __getitem__ method of MyDataset class will be called to return this element.\n",
        "# This is useful for debugging and understanding the data structure\n",
        "train_dataset[0]\n"
      ],
      "metadata": {
        "id": "Vu2OtlMiD0Wm",
        "colab": {
          "base_uri": "https://localhost:8080/"
        },
        "outputId": "5abbdf9e-94e7-403f-f054-e2e4f8545e46"
      },
      "execution_count": 117,
      "outputs": [
        {
          "output_type": "execute_result",
          "data": {
            "text/plain": [
              "(tensor([ 1.6551,  0.2102,  0.5157, -2.0018,  0.4000]), tensor([0., 0., 1.]))"
            ]
          },
          "metadata": {},
          "execution_count": 117
        }
      ],
      "id": "Vu2OtlMiD0Wm"
    },
    {
      "cell_type": "code",
      "source": [
        "# Create Data lOader from Dataset\n",
        "# Use a batch size of 16\n",
        "# Use shuffle = True\n",
        "train_loader =  DataLoader(dataset = train_dataset, batch_size = 16, shuffle = True)"
      ],
      "metadata": {
        "id": "m2wpBNxGD0Wm"
      },
      "execution_count": 118,
      "outputs": [],
      "id": "m2wpBNxGD0Wm"
    },
    {
      "cell_type": "markdown",
      "metadata": {
        "id": "_GHaXZjYD0Wm"
      },
      "source": [
        "## <font color = 'indianred'>**Model**"
      ],
      "id": "_GHaXZjYD0Wm"
    },
    {
      "cell_type": "code",
      "execution_count": 135,
      "metadata": {
        "id": "hFO9egt-D0Wm"
      },
      "outputs": [],
      "source": [
        "# Student Task: Specify your model architecture here.\n",
        "# This is a multilabel problem. Think through what layers you should add to handle this.\n",
        "# Remember, the architecture of your last layer will also depend on your choice of loss function.\n",
        "# Additional Note: No hidden layers should be added for this exercise.\n",
        "# You can use nn.Linear or nn.Sequential for this task\n",
        "\n",
        "model =  nn.Sequential(\n",
        "    nn.Linear(5, 3),\n",
        "    nn.Sigmoid()\n",
        ")\n",
        "\n",
        "\n"
      ],
      "id": "hFO9egt-D0Wm"
    },
    {
      "cell_type": "markdown",
      "source": [
        "## <font color = 'indianred'>**Loss Function**"
      ],
      "metadata": {
        "id": "kDAWf_4tD0Wm"
      },
      "id": "kDAWf_4tD0Wm"
    },
    {
      "cell_type": "code",
      "execution_count": 136,
      "metadata": {
        "id": "Vf_-zc8bD0Wn"
      },
      "outputs": [],
      "source": [
        "# Student Task: Specify the loss function for your model.\n",
        "# Consider the architecture of your model, especially the last layer, when choosing the loss function.\n",
        "# This is a multilabel problem, so make sure your choice reflects that.\n",
        "\n",
        "loss_function =  nn.BCELoss()\n"
      ],
      "id": "Vf_-zc8bD0Wn"
    },
    {
      "cell_type": "markdown",
      "metadata": {
        "id": "mrg3Yjr2D0Wn"
      },
      "source": [
        "## <font color = 'indianred'>**Initialization**\n",
        "\n",
        "Create a function to initilaize weights.\n",
        "- Initialize weights using normal distribution with mean = 0 and std = 0.05\n",
        "- Initilaize the bias term with zeros"
      ],
      "id": "mrg3Yjr2D0Wn"
    },
    {
      "cell_type": "code",
      "execution_count": 137,
      "metadata": {
        "id": "a-KxNiavD0Wn"
      },
      "outputs": [],
      "source": [
        "# Function to initialize the weights and biases of the model's layers\n",
        "# This is provided to you and is not a student task\n",
        "def init_weights(layer):\n",
        "  # Check if the layer is a Linear layer\n",
        "  if type(layer) == nn.Linear:\n",
        "    # Initialize the weights with a normal distribution, mean=0, std=0.05\n",
        "    torch.nn.init.normal_(layer.weight, mean = 0, std = 0.05)\n",
        "    # Initialize the bias terms to zero\n",
        "    torch.nn.init.zeros_(layer.bias)\n"
      ],
      "id": "a-KxNiavD0Wn"
    },
    {
      "cell_type": "markdown",
      "metadata": {
        "id": "Cw1DGXWpD0Wn"
      },
      "source": [
        "## <font color = 'indianred'>**Training Loop**"
      ],
      "id": "Cw1DGXWpD0Wn"
    },
    {
      "cell_type": "markdown",
      "metadata": {
        "id": "0eJAKrRoD0Wn"
      },
      "source": [
        "**Model Training** involves five steps:\n",
        "\n",
        "- Step 0: Randomly initialize parameters / weights\n",
        "- Step 1: Compute model's predictions - forward pass\n",
        "- Step 2: Compute loss\n",
        "- Step 3: Compute the gradients\n",
        "- Step 4: Update the parameters\n",
        "- Step 5: Repeat steps 1 - 4\n",
        "\n",
        "Model training is repeating this process over and over, for many **epochs**.\n",
        "\n",
        "We will specify number of ***epochs*** and during each epoch we will iterate over the complete dataset and will keep on updating the parameters.\n",
        "\n",
        "***Learning rate*** and ***epochs*** are known as hyperparameters. We have to adjust the values of these two based on validation dataset.\n",
        "\n",
        "We will now create functions for step 1 to 4."
      ],
      "id": "0eJAKrRoD0Wn"
    },
    {
      "cell_type": "code",
      "source": [
        "# Install the torchmetrics package, a PyTorch library for various machine learning metrics,\n",
        "# to facilitate model evaluation during and after training.\n",
        "!pip install torchmetrics\n"
      ],
      "metadata": {
        "id": "R8EcSFdVFYkt",
        "colab": {
          "base_uri": "https://localhost:8080/"
        },
        "outputId": "824ea6fd-18e7-492c-dbc1-2bee5be00427"
      },
      "id": "R8EcSFdVFYkt",
      "execution_count": 138,
      "outputs": [
        {
          "output_type": "stream",
          "name": "stdout",
          "text": [
            "Requirement already satisfied: torchmetrics in /usr/local/lib/python3.10/dist-packages (1.3.1)\n",
            "Requirement already satisfied: numpy>1.20.0 in /usr/local/lib/python3.10/dist-packages (from torchmetrics) (1.25.2)\n",
            "Requirement already satisfied: packaging>17.1 in /usr/local/lib/python3.10/dist-packages (from torchmetrics) (23.2)\n",
            "Requirement already satisfied: torch>=1.10.0 in /usr/local/lib/python3.10/dist-packages (from torchmetrics) (2.1.0+cu121)\n",
            "Requirement already satisfied: lightning-utilities>=0.8.0 in /usr/local/lib/python3.10/dist-packages (from torchmetrics) (0.10.1)\n",
            "Requirement already satisfied: setuptools in /usr/local/lib/python3.10/dist-packages (from lightning-utilities>=0.8.0->torchmetrics) (67.7.2)\n",
            "Requirement already satisfied: typing-extensions in /usr/local/lib/python3.10/dist-packages (from lightning-utilities>=0.8.0->torchmetrics) (4.9.0)\n",
            "Requirement already satisfied: filelock in /usr/local/lib/python3.10/dist-packages (from torch>=1.10.0->torchmetrics) (3.13.1)\n",
            "Requirement already satisfied: sympy in /usr/local/lib/python3.10/dist-packages (from torch>=1.10.0->torchmetrics) (1.12)\n",
            "Requirement already satisfied: networkx in /usr/local/lib/python3.10/dist-packages (from torch>=1.10.0->torchmetrics) (3.2.1)\n",
            "Requirement already satisfied: jinja2 in /usr/local/lib/python3.10/dist-packages (from torch>=1.10.0->torchmetrics) (3.1.3)\n",
            "Requirement already satisfied: fsspec in /usr/local/lib/python3.10/dist-packages (from torch>=1.10.0->torchmetrics) (2023.6.0)\n",
            "Requirement already satisfied: triton==2.1.0 in /usr/local/lib/python3.10/dist-packages (from torch>=1.10.0->torchmetrics) (2.1.0)\n",
            "Requirement already satisfied: MarkupSafe>=2.0 in /usr/local/lib/python3.10/dist-packages (from jinja2->torch>=1.10.0->torchmetrics) (2.1.5)\n",
            "Requirement already satisfied: mpmath>=0.19 in /usr/local/lib/python3.10/dist-packages (from sympy->torch>=1.10.0->torchmetrics) (1.3.0)\n"
          ]
        }
      ]
    },
    {
      "cell_type": "code",
      "execution_count": 139,
      "metadata": {
        "id": "03x_-TFpD0Wn"
      },
      "outputs": [],
      "source": [
        "# Import HammingDistance from torchmetrics\n",
        "# HammingDistance is useful for evaluating multi-label classification problems.\n",
        "from torchmetrics import HammingDistance"
      ],
      "id": "03x_-TFpD0Wn"
    },
    {
      "cell_type": "markdown",
      "source": [
        "<font color = 'indianred'>**Hamming Distance**</font> is often used in multi-label classification problems to quantify the dissimilarity between the predicted and true labels. It does this by measuring the number of label positions where predicted and true labels differ for each sample. It is a useful metric because it offers a granular level of understanding of the discrepancies between the predicted and actual labels, taking into account each label in a multi-label setting.\n",
        "\n",
        "<font color = 'indianred'>**Unlike accuracy, which is all-or-nothing, Hamming Distance can give partial credit by considering the labels that were correctly classified** </font>, thereby providing a more granular insight into the model's performance.\n",
        "\n",
        "Let us understand this with an example:"
      ],
      "metadata": {
        "id": "aJrHO7YNW_4z"
      },
      "id": "aJrHO7YNW_4z"
    },
    {
      "cell_type": "code",
      "source": [
        "target = torch.tensor([[0, 1], [1, 1]])\n",
        "preds = torch.tensor([[0, 1], [0, 1]])\n",
        "hamming_distance = HammingDistance(task=\"multilabel\", num_labels=2)\n",
        "hamming_distance(preds, target)"
      ],
      "metadata": {
        "id": "H9_bbYVRVgar",
        "colab": {
          "base_uri": "https://localhost:8080/"
        },
        "outputId": "e7c4b892-24dc-4fa0-b494-6049a3ff27a3"
      },
      "id": "H9_bbYVRVgar",
      "execution_count": 140,
      "outputs": [
        {
          "output_type": "execute_result",
          "data": {
            "text/plain": [
              "tensor(0.2500)"
            ]
          },
          "metadata": {},
          "execution_count": 140
        }
      ]
    },
    {
      "cell_type": "markdown",
      "source": [
        "In the given example, the Hamming Distance is calculated for multi-label classification with two labels (0 and 1).\n",
        "\n",
        "1. The target tensor has shape (2, 2): `[[0, 1], [1, 1]]`\n",
        "2. The prediction tensor also has shape (2, 2): `[[0, 1], [0, 1]]`\n",
        "\n",
        "Let's examine the individual sample pairs to understand the distance:\n",
        "\n",
        "- For the first sample pair (target = `[0, 1]`, prediction = `[0, 1]`), the Hamming Distance is 0 because the prediction is accurate.\n",
        "- For the second sample pair (target = `[1, 1]`, prediction = `[0, 1]`), the Hamming Distance is 1 for the first label (predicted 0, true label 1).\n",
        "\n",
        "To calculate the overall Hamming Distance, we can take the number of label mismatches and divide by the total number of labels:\n",
        "\n",
        "- Total Mismatches = 1 (from the second sample pair)\n",
        "- Total Number of Labels = 2 samples * 2 labels per sample = 4\n",
        "\n",
        "Therefore, the overall Hamming Distance is \\(1 / 4 = 0.25\\), which matches the output `tensor(0.2500)`.\n",
        "\n",
        "Hamming Distance is a good metric for multi-label classification as it can capture the difference between sets of labels per sample, thereby providing a more granular measure of the model's performance."
      ],
      "metadata": {
        "id": "QQvqbLYeV2oL"
      },
      "id": "QQvqbLYeV2oL"
    },
    {
      "cell_type": "code",
      "source": [
        "def train(epochs, loss_function, learning_rate, model, optimizer, train_loader, device):\n",
        "\n",
        "    train_hamming_distance = HammingDistance(task=\"multilabel\", num_labels=3).to(device)\n",
        "\n",
        "    for epoch in range(epochs):\n",
        "        # Initialize train_loss at the start of the epoch\n",
        "        running_train_loss = 0.0\n",
        "\n",
        "        # Iterate on batches from the dataset using train_loader\n",
        "        for x, y in train_loader:\n",
        "            # Move inputs and outputs to GPUs\n",
        "            x =  x.to(device)\n",
        "            y =  y.to(device)\n",
        "\n",
        "            # Step 1: Forward Pass: Compute model's predictions\n",
        "            output =  model(x)\n",
        "\n",
        "            # Step 2: Compute loss\n",
        "            loss =  loss_function(output, y)\n",
        "\n",
        "            # Step 3: Backward pass - Compute the gradients\n",
        "            optimizer.zero_grad()\n",
        "\n",
        "\n",
        "            # Backward pass: Compute gradients based on the loss\n",
        "            loss.backward()\n",
        "\n",
        "            # Step 4: Update the parameters\n",
        "            optimizer.step()\n",
        "\n",
        "            # Update running loss\n",
        "            running_train_loss += loss.item()\n",
        "\n",
        "            with torch.no_grad():\n",
        "                # Correct prediction using thresholding\n",
        "                threshold = 0.5\n",
        "                y_pred = (output > threshold).float()\n",
        "\n",
        "                # Update Hamming Distance metric\n",
        "                train_hamming_distance.update(y_pred, y)\n",
        "\n",
        "        # Compute mean train loss for the epoch\n",
        "        train_loss = running_train_loss / len(train_loader)\n",
        "\n",
        "        # Compute Hamming Distance for the epoch\n",
        "        epoch_hamming_distance = train_hamming_distance.compute()\n",
        "\n",
        "        # Print the train loss and Hamming Distance for the epoch\n",
        "        print(f'Epoch: {epoch + 1} / {epochs}')\n",
        "        print(f'Train Loss: {train_loss:.4f} | Train Hamming Distance: {epoch_hamming_distance:.4f}')\n",
        "\n",
        "        # Reset metric states for the next epoch\n",
        "        train_hamming_distance.reset()\n"
      ],
      "metadata": {
        "id": "MOvMeCtlULhs"
      },
      "id": "MOvMeCtlULhs",
      "execution_count": 141,
      "outputs": []
    },
    {
      "cell_type": "code",
      "source": [
        "# Set a manual seed for reproducibility across runs\n",
        "torch.manual_seed(100)\n",
        "\n",
        "# Define hyperparameters: learning rate and the number of epochs\n",
        "learning_rate = 1\n",
        "epochs = 20\n",
        "\n",
        "# Determine the computing device (GPU if available, otherwise CPU)\n",
        "device = torch.device('cuda:0' if torch.cuda.is_available() else 'cpu')\n",
        "print(f\"Using device: {device}\")\n",
        "\n",
        "# Student Task: Configure the optimizer for model training.\n",
        "# Here, we're using Stochastic Gradient Descent (SGD). Think through what parameters are needed.\n",
        "# Reminder: Utilize the learning rate defined above when setting up your optimizer.\n",
        "optimizer = torch.optim.SGD(model.parameters(), lr = learning_rate)\n",
        "\n",
        "# Transfer the model to the selected device (CPU or GPU)\n",
        "model.to(device)\n",
        "\n",
        "# Apply custom weight initialization function to the model layers\n",
        "# Note: Weight initialization can significantly affect training dynamics\n",
        "model.apply(init_weights)\n",
        "\n",
        "# Call the training function to start the training process\n",
        "# Note: All elements like epochs, loss function, learning rate, etc., are passed as arguments\n",
        "train(epochs, loss_function, learning_rate, model, optimizer, train_loader, device)\n"
      ],
      "metadata": {
        "id": "GvVE1B4DD0Wn",
        "colab": {
          "base_uri": "https://localhost:8080/"
        },
        "outputId": "c2db14b2-c23e-474b-9b2f-f60122e08120"
      },
      "execution_count": 142,
      "outputs": [
        {
          "output_type": "stream",
          "name": "stdout",
          "text": [
            "Using device: cpu\n",
            "Epoch: 1 / 20\n",
            "Train Loss: 0.5126 | Train Hamming Distance: 0.2533\n",
            "Epoch: 2 / 20\n",
            "Train Loss: 0.4856 | Train Hamming Distance: 0.2433\n",
            "Epoch: 3 / 20\n",
            "Train Loss: 0.4825 | Train Hamming Distance: 0.2437\n",
            "Epoch: 4 / 20\n",
            "Train Loss: 0.4833 | Train Hamming Distance: 0.2470\n",
            "Epoch: 5 / 20\n",
            "Train Loss: 0.4866 | Train Hamming Distance: 0.2457\n",
            "Epoch: 6 / 20\n",
            "Train Loss: 0.4829 | Train Hamming Distance: 0.2443\n",
            "Epoch: 7 / 20\n",
            "Train Loss: 0.4856 | Train Hamming Distance: 0.2453\n",
            "Epoch: 8 / 20\n",
            "Train Loss: 0.4843 | Train Hamming Distance: 0.2453\n",
            "Epoch: 9 / 20\n",
            "Train Loss: 0.4858 | Train Hamming Distance: 0.2457\n",
            "Epoch: 10 / 20\n",
            "Train Loss: 0.4860 | Train Hamming Distance: 0.2450\n",
            "Epoch: 11 / 20\n",
            "Train Loss: 0.4846 | Train Hamming Distance: 0.2487\n",
            "Epoch: 12 / 20\n",
            "Train Loss: 0.4842 | Train Hamming Distance: 0.2443\n",
            "Epoch: 13 / 20\n",
            "Train Loss: 0.4845 | Train Hamming Distance: 0.2477\n",
            "Epoch: 14 / 20\n",
            "Train Loss: 0.4848 | Train Hamming Distance: 0.2487\n",
            "Epoch: 15 / 20\n",
            "Train Loss: 0.4833 | Train Hamming Distance: 0.2450\n",
            "Epoch: 16 / 20\n",
            "Train Loss: 0.4846 | Train Hamming Distance: 0.2460\n",
            "Epoch: 17 / 20\n",
            "Train Loss: 0.4847 | Train Hamming Distance: 0.2460\n",
            "Epoch: 18 / 20\n",
            "Train Loss: 0.4854 | Train Hamming Distance: 0.2467\n",
            "Epoch: 19 / 20\n",
            "Train Loss: 0.4828 | Train Hamming Distance: 0.2470\n",
            "Epoch: 20 / 20\n",
            "Train Loss: 0.4822 | Train Hamming Distance: 0.2413\n"
          ]
        }
      ],
      "id": "GvVE1B4DD0Wn"
    },
    {
      "cell_type": "code",
      "execution_count": 143,
      "metadata": {
        "id": "iT6TOxnXD0Wn",
        "colab": {
          "base_uri": "https://localhost:8080/"
        },
        "outputId": "d08f8295-779e-4333-f501-8aaa2acfafdd"
      },
      "outputs": [
        {
          "output_type": "stream",
          "name": "stdout",
          "text": [
            "0.weight tensor([[ 0.9856, -0.1141, -0.2715,  0.0869, -0.9284],\n",
            "        [-0.9591,  0.7973,  0.5119,  0.1237, -1.4677],\n",
            "        [ 0.1281,  0.7948, -0.0565, -1.6264,  0.5559]])\n",
            "0.bias tensor([-0.2102,  0.4204,  0.0613])\n"
          ]
        }
      ],
      "source": [
        "# Loop through the model's parameters to display them\n",
        "# This is helpful for debugging and understanding how well the model has learned\n",
        "for name, param in model.named_parameters():\n",
        "    # 'name' will contain the name of the parameter (e.g., 'layer1.weight')\n",
        "    # 'param.data' will contain the parameter values\n",
        "    print(name, param.data)\n"
      ],
      "id": "iT6TOxnXD0Wn"
    }
  ],
  "metadata": {
    "accelerator": "GPU",
    "colab": {
      "provenance": [],
      "gpuType": "T4"
    },
    "kernelspec": {
      "display_name": "Python 3",
      "name": "python3"
    },
    "language_info": {
      "codemirror_mode": {
        "name": "ipython",
        "version": 3
      },
      "file_extension": ".py",
      "mimetype": "text/x-python",
      "name": "python",
      "nbconvert_exporter": "python",
      "pygments_lexer": "ipython3",
      "version": "3.9.13"
    }
  },
  "nbformat": 4,
  "nbformat_minor": 5
}